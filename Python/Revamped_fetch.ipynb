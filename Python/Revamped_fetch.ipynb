{
 "cells": [
  {
   "cell_type": "code",
   "execution_count": 1,
   "id": "8261fdd4-8776-4975-a81a-836c4fc7b543",
   "metadata": {},
   "outputs": [],
   "source": [
    "# rehashing data fetching. Hopefully it should be faster\n",
    "# imports\n",
    "import pandas as pd\n",
    "import pickle\n",
    "import os\n",
    "import io\n",
    "from tqdm.notebook import tqdm\n",
    "from IPython.display import clear_output"
   ]
  },
  {
   "cell_type": "code",
   "execution_count": 2,
   "id": "80f18609-954f-4715-a648-95dbbcc676eb",
   "metadata": {},
   "outputs": [],
   "source": [
    "#gets headers\n",
    "def get_headers(lines):\n",
    "    header_dicts = {}\n",
    "    reading_headers = False\n",
    "    current_counter = 0\n",
    "    headed = \"\"\n",
    "    for line in lines:\n",
    "        if not reading_headers:\n",
    "            if line.startswith('#'):\n",
    "                reading_headers = True\n",
    "                headed += line.strip('\\n')\n",
    "        else:\n",
    "            if not line.startswith('#'):\n",
    "                reading_headers = False\n",
    "                header_dicts[current_counter] = headed\n",
    "                current_counter += 1\n",
    "                headed = \"\"\n",
    "            else:\n",
    "                headed += line.strip('\\n')\n",
    "    return header_dicts"
   ]
  },
  {
   "cell_type": "code",
   "execution_count": 11,
   "id": "8232f05f-53f7-44f8-9f81-da7702b82386",
   "metadata": {},
   "outputs": [],
   "source": [
    "# fetching functions\n",
    "def fetch_all_data(prefix, group_data_time_steps, agent_data_time_steps):\n",
    "    if not os.path.exists(f\"revamped_{prefix}_backup\"):\n",
    "        os.mkdir(f\"revamped_{prefix}_backup\")\n",
    "        os.mkdir(f\"revamped_{prefix}_backup/Group_data\")\n",
    "        os.mkdir(f\"revamped_{prefix}_backup/Agent_data\")\n",
    "    \n",
    "    er = {}\n",
    "    \n",
    "    group_dfs = get_groups(prefix, group_data_time_steps, er)\n",
    "    agent_dfs = get_agents(prefix, agent_data_time_steps, er)\n",
    "    return er, group_dfs, agent_dfs\n",
    "\n",
    "def get_groups(prefix, time_steps, existing_runs, start_from=0):\n",
    "    group_dfs = {}\n",
    "\n",
    "    if start_from == 0:\n",
    "        pass\n",
    "    else:\n",
    "        with open(f'revamped_{prefix}_existing_runs_backup.pkl', 'rb') as f:\n",
    "            existing_runs = pickle.load(f)\n",
    "    \n",
    "    group_directory = f\"{prefix}/Group_data\"\n",
    "    group_backup_directory = f\"revamped_{prefix}_backup/Group_data\"\n",
    "    \n",
    "    for filename in tqdm(os.listdir(group_directory)[start_from:], desc = \"Processing group files\"):\n",
    "        file_path = os.path.join(group_directory, filename)\n",
    "        # Check if it's a regular file (not a directory)\n",
    "        if os.path.isfile(file_path) and prefix in file_path:\n",
    "            group_id = int(filename.split('-')[1].strip('.txt'))\n",
    "\n",
    "            if group_id not in group_dfs:\n",
    "                group_dfs[group_id] = {}\n",
    "            \n",
    "            with open(file_path, 'r') as temp:\n",
    "                read = temp.readlines()\n",
    "            read = temp.readlines()\n",
    "            temp_lines = [line for line in read if not line.startswith('#')]\n",
    "            i2h = get_headers(read)\n",
    "            num_sections = len(temp_lines)//(time_steps+1)\n",
    "            df_set = {}\n",
    "            for i in tqdm(range(num_sections), desc=\"Iterating through runs\"):\n",
    "                filtered_csv_string = ''.join(temp_lines)\n",
    "                csv_io = io.StringIO(filtered_csv_string)\n",
    "                df = pd.read_csv(csv_io, skiprows = i*(time_steps+1), nrows = time_steps, comment=\"#\")\n",
    "                # iterating through the file, so after getting this df, I need to store it in group_dfs, under its respective group id\n",
    "                # group_dfs storage format will be group_dfs[{group id}][{header}] = array of runs in dataframe format that share the same header\n",
    "                # i = index of header in i2h\n",
    "                # existing runs is now just a dictionary of headers with counts for sanity checking\n",
    "                # existing runs[{header}] = {'num_agent_runs': {count of agent runs that share a header}, 'num_group_runs':{count of group runs that share a header}}\n",
    "                current_header = i2h[i]\n",
    "                if current_header not in existing_runs:\n",
    "                    existing_runs[current_header] = {'num_agent_runs': 0, 'num_group_runs':1}\n",
    "                else:\n",
    "                    existing_runs[current_header]['num_group_runs'] += 1\n",
    "                # logic for handling addition of redundant runs\n",
    "                if current_header not in group_dfs[group_id]:\n",
    "                    group_dfs[group_id][current_header] = [df]\n",
    "                else:\n",
    "                    group_dfs[group_id][current_header].append(df)\n",
    "            \n",
    "            with open(f\"{group_backup_directory}/{filename.strip('.txt')}.pkl\", 'wb+') as file:\n",
    "                pickle.dump(group_dfs[group_id], file)\n",
    "    with open(f\"revamped_{prefix}_existing_runs_backup.pkl\", 'wb+') as file:\n",
    "        pickle.dump(existing_runs, file)\n",
    "    return group_dfs\n",
    "\n",
    "def get_agents(prefix, time_steps, existing_runs, start_from=0):\n",
    "    agent_dfs = {}\n",
    "    agent_directory = f\"{prefix}/Agent_data\"\n",
    "    agent_backup_directory = f\"revamped_{prefix}_backup/Agent_data\"\n",
    "\n",
    "    if start_from == 0:\n",
    "        pass\n",
    "    else:\n",
    "        with open(f'revamped_{prefix}_existing_runs_backup.pkl', 'rb') as f:\n",
    "            existing_runs = pickle.load(f)\n",
    "    \n",
    "    for filename in tqdm(os.listdir(agent_directory)[start_from:], desc=\"Processing agent files\"): # for each file in the os\n",
    "        file_path = os.path.join(agent_directory, filename)\n",
    "        # Check if it's a regular file (not a directory)\n",
    "        if os.path.isfile(file_path) and prefix in file_path:\n",
    "\n",
    "            agent_id = int(filename.split('-')[1].strip('.txt'))\n",
    "\n",
    "            if agent_id not in agent_dfs:\n",
    "                agent_dfs[agent_id] = {}\n",
    "            with open(file_path, 'r') as temp:\n",
    "                read = temp.readlines()\n",
    "            temp_lines = [line for line in read if not line.startswith('#')] # get lines for reading pure dfs\n",
    "            i2h = get_headers(read) # get i2h, h2i, seeds in order\n",
    "            num_sections = len(temp_lines)//(time_steps+1)\n",
    "            for i in tqdm(range(num_sections), desc=\"iterating through agent runs\"): # for each RUN\n",
    "                filtered_csv_string = ''.join(temp_lines)\n",
    "                csv_io = io.StringIO(filtered_csv_string)\n",
    "                df = pd.read_csv(csv_io, skiprows = i*(time_steps+1), nrows = time_steps, comment=\"#\")\n",
    "                # agent_dfs structure is going to be similar\n",
    "                # agent_dfs[{agent_id}][{header}] = array of runs in dataframe format that share the same header\n",
    "            \n",
    "                \n",
    "                current_header = i2h[i]\n",
    "                if current_header not in existing_runs:\n",
    "                    existing_runs[current_header] = {'num_agent_runs': 1, 'num_group_runs': 0}\n",
    "                else:\n",
    "                    existing_runs[current_header]['num_agent_runs'] += 1\n",
    "                # logic for handling addition of redundant runs\n",
    "                if current_header not in agent_dfs[agent_id]:\n",
    "                    agent_dfs[agent_id][current_header] = [df]\n",
    "                else:\n",
    "                    agent_dfs[agent_id][current_header].append(df)\n",
    "            with open(f\"{agent_backup_directory}/{filename}.pkl\", 'wb+') as file:\n",
    "                pickle.dump(agent_dfs[agent_id], file)\n",
    "    with open(f\"revamped_{prefix}_existing_runs_backup.pkl\", 'wb+') as file:\n",
    "        pickle.dump(existing_runs, file)\n",
    "    return agent_dfs"
   ]
  },
  {
   "cell_type": "code",
   "execution_count": null,
   "id": "b581c07b-5d5b-4a2b-a34c-6747afae631e",
   "metadata": {
    "scrolled": true
   },
   "outputs": [],
   "source": [
    "# try and run it with small set, a 60 run\n",
    "true_60_er, true_60_group_dfs, true_60_agent_dfs = fetch_all_data('true_60', 200, 40)"
   ]
  },
  {
   "cell_type": "code",
   "execution_count": 5,
   "id": "4796e872-486c-420f-b5e3-ea9799040fd0",
   "metadata": {
    "scrolled": true
   },
   "outputs": [
    {
     "name": "stdout",
     "output_type": "stream",
     "text": [
      "Processing true_200...\n"
     ]
    },
    {
     "data": {
      "application/vnd.jupyter.widget-view+json": {
       "model_id": "975ab0c037874bcc8b97eb29a75e710e",
       "version_major": 2,
       "version_minor": 0
      },
      "text/plain": [
       "Processing group files:   0%|          | 0/66 [00:00<?, ?it/s]"
      ]
     },
     "metadata": {},
     "output_type": "display_data"
    },
    {
     "data": {
      "application/vnd.jupyter.widget-view+json": {
       "model_id": "15a6c5acd8b4483f86fec405d59b5a9c",
       "version_major": 2,
       "version_minor": 0
      },
      "text/plain": [
       "Iterating through runs:   0%|          | 0/6250 [00:00<?, ?it/s]"
      ]
     },
     "metadata": {},
     "output_type": "display_data"
    },
    {
     "data": {
      "application/vnd.jupyter.widget-view+json": {
       "model_id": "f2fb8789bfc942039a11d7687846838f",
       "version_major": 2,
       "version_minor": 0
      },
      "text/plain": [
       "Iterating through runs:   0%|          | 0/6250 [00:00<?, ?it/s]"
      ]
     },
     "metadata": {},
     "output_type": "display_data"
    },
    {
     "data": {
      "application/vnd.jupyter.widget-view+json": {
       "model_id": "b96873394f0f4188ae4dea3d39e99a4d",
       "version_major": 2,
       "version_minor": 0
      },
      "text/plain": [
       "Iterating through runs:   0%|          | 0/6250 [00:00<?, ?it/s]"
      ]
     },
     "metadata": {},
     "output_type": "display_data"
    },
    {
     "data": {
      "application/vnd.jupyter.widget-view+json": {
       "model_id": "01171153115a42c7936042504484069d",
       "version_major": 2,
       "version_minor": 0
      },
      "text/plain": [
       "Iterating through runs:   0%|          | 0/6250 [00:00<?, ?it/s]"
      ]
     },
     "metadata": {},
     "output_type": "display_data"
    },
    {
     "data": {
      "application/vnd.jupyter.widget-view+json": {
       "model_id": "e1cf6ff059764a4db3ea9a1bf7112e44",
       "version_major": 2,
       "version_minor": 0
      },
      "text/plain": [
       "Iterating through runs:   0%|          | 0/6250 [00:00<?, ?it/s]"
      ]
     },
     "metadata": {},
     "output_type": "display_data"
    },
    {
     "data": {
      "application/vnd.jupyter.widget-view+json": {
       "model_id": "a4c4eef8164140f5a1bbf841e086292e",
       "version_major": 2,
       "version_minor": 0
      },
      "text/plain": [
       "Iterating through runs:   0%|          | 0/6250 [00:00<?, ?it/s]"
      ]
     },
     "metadata": {},
     "output_type": "display_data"
    },
    {
     "data": {
      "application/vnd.jupyter.widget-view+json": {
       "model_id": "5227272e5d074c98b97d9fa7ae1898b5",
       "version_major": 2,
       "version_minor": 0
      },
      "text/plain": [
       "Iterating through runs:   0%|          | 0/6250 [00:00<?, ?it/s]"
      ]
     },
     "metadata": {},
     "output_type": "display_data"
    },
    {
     "data": {
      "application/vnd.jupyter.widget-view+json": {
       "model_id": "67c3fc87e5264c5eb8205caa7381e613",
       "version_major": 2,
       "version_minor": 0
      },
      "text/plain": [
       "Iterating through runs:   0%|          | 0/6250 [00:00<?, ?it/s]"
      ]
     },
     "metadata": {},
     "output_type": "display_data"
    },
    {
     "data": {
      "application/vnd.jupyter.widget-view+json": {
       "model_id": "6e2ed593283e4936b409b0ebfed2b0fe",
       "version_major": 2,
       "version_minor": 0
      },
      "text/plain": [
       "Iterating through runs:   0%|          | 0/6250 [00:00<?, ?it/s]"
      ]
     },
     "metadata": {},
     "output_type": "display_data"
    },
    {
     "data": {
      "application/vnd.jupyter.widget-view+json": {
       "model_id": "d4c97a994f3340ad8013716dceafc9c8",
       "version_major": 2,
       "version_minor": 0
      },
      "text/plain": [
       "Iterating through runs:   0%|          | 0/6250 [00:00<?, ?it/s]"
      ]
     },
     "metadata": {},
     "output_type": "display_data"
    },
    {
     "data": {
      "application/vnd.jupyter.widget-view+json": {
       "model_id": "eb39bab7e7554211b83bbb581f49e60b",
       "version_major": 2,
       "version_minor": 0
      },
      "text/plain": [
       "Iterating through runs:   0%|          | 0/6250 [00:00<?, ?it/s]"
      ]
     },
     "metadata": {},
     "output_type": "display_data"
    },
    {
     "data": {
      "application/vnd.jupyter.widget-view+json": {
       "model_id": "f2014ac1dc3e4c4d918df27d740bb789",
       "version_major": 2,
       "version_minor": 0
      },
      "text/plain": [
       "Iterating through runs:   0%|          | 0/6250 [00:00<?, ?it/s]"
      ]
     },
     "metadata": {},
     "output_type": "display_data"
    },
    {
     "data": {
      "application/vnd.jupyter.widget-view+json": {
       "model_id": "b05e169654c145a7a5ff45fc2d0be27b",
       "version_major": 2,
       "version_minor": 0
      },
      "text/plain": [
       "Iterating through runs:   0%|          | 0/6250 [00:00<?, ?it/s]"
      ]
     },
     "metadata": {},
     "output_type": "display_data"
    },
    {
     "data": {
      "application/vnd.jupyter.widget-view+json": {
       "model_id": "49cc4277209846988f51a39bea2e40e6",
       "version_major": 2,
       "version_minor": 0
      },
      "text/plain": [
       "Iterating through runs:   0%|          | 0/6250 [00:00<?, ?it/s]"
      ]
     },
     "metadata": {},
     "output_type": "display_data"
    },
    {
     "data": {
      "application/vnd.jupyter.widget-view+json": {
       "model_id": "b182b91750ca4e55b8f2970a2728f09d",
       "version_major": 2,
       "version_minor": 0
      },
      "text/plain": [
       "Iterating through runs:   0%|          | 0/6250 [00:00<?, ?it/s]"
      ]
     },
     "metadata": {},
     "output_type": "display_data"
    },
    {
     "data": {
      "application/vnd.jupyter.widget-view+json": {
       "model_id": "afb3a40a96124f9ca831be21940aec1e",
       "version_major": 2,
       "version_minor": 0
      },
      "text/plain": [
       "Iterating through runs:   0%|          | 0/6250 [00:00<?, ?it/s]"
      ]
     },
     "metadata": {},
     "output_type": "display_data"
    },
    {
     "data": {
      "application/vnd.jupyter.widget-view+json": {
       "model_id": "a36353d3bc264b5e846bc64b097d06f8",
       "version_major": 2,
       "version_minor": 0
      },
      "text/plain": [
       "Iterating through runs:   0%|          | 0/6250 [00:00<?, ?it/s]"
      ]
     },
     "metadata": {},
     "output_type": "display_data"
    },
    {
     "data": {
      "application/vnd.jupyter.widget-view+json": {
       "model_id": "fa3f5d789d9e4b54bc3f1a60584042a8",
       "version_major": 2,
       "version_minor": 0
      },
      "text/plain": [
       "Iterating through runs:   0%|          | 0/6250 [00:00<?, ?it/s]"
      ]
     },
     "metadata": {},
     "output_type": "display_data"
    },
    {
     "data": {
      "application/vnd.jupyter.widget-view+json": {
       "model_id": "ed964854db1645678c0010a3474c3254",
       "version_major": 2,
       "version_minor": 0
      },
      "text/plain": [
       "Iterating through runs:   0%|          | 0/6250 [00:00<?, ?it/s]"
      ]
     },
     "metadata": {},
     "output_type": "display_data"
    },
    {
     "data": {
      "application/vnd.jupyter.widget-view+json": {
       "model_id": "0d5d2aa6bc6842009e23626f72142075",
       "version_major": 2,
       "version_minor": 0
      },
      "text/plain": [
       "Iterating through runs:   0%|          | 0/6250 [00:00<?, ?it/s]"
      ]
     },
     "metadata": {},
     "output_type": "display_data"
    },
    {
     "data": {
      "application/vnd.jupyter.widget-view+json": {
       "model_id": "81a30cae61d14be4a3801c215860c2f4",
       "version_major": 2,
       "version_minor": 0
      },
      "text/plain": [
       "Iterating through runs:   0%|          | 0/6250 [00:00<?, ?it/s]"
      ]
     },
     "metadata": {},
     "output_type": "display_data"
    },
    {
     "data": {
      "application/vnd.jupyter.widget-view+json": {
       "model_id": "aa37eabdac474bb3a169481645c6daff",
       "version_major": 2,
       "version_minor": 0
      },
      "text/plain": [
       "Iterating through runs:   0%|          | 0/6250 [00:00<?, ?it/s]"
      ]
     },
     "metadata": {},
     "output_type": "display_data"
    },
    {
     "data": {
      "application/vnd.jupyter.widget-view+json": {
       "model_id": "66d365805cde43229daa7750edce338c",
       "version_major": 2,
       "version_minor": 0
      },
      "text/plain": [
       "Iterating through runs:   0%|          | 0/6250 [00:00<?, ?it/s]"
      ]
     },
     "metadata": {},
     "output_type": "display_data"
    },
    {
     "data": {
      "application/vnd.jupyter.widget-view+json": {
       "model_id": "b4f25006c209421a973f780575d3faa9",
       "version_major": 2,
       "version_minor": 0
      },
      "text/plain": [
       "Iterating through runs:   0%|          | 0/6250 [00:00<?, ?it/s]"
      ]
     },
     "metadata": {},
     "output_type": "display_data"
    },
    {
     "data": {
      "application/vnd.jupyter.widget-view+json": {
       "model_id": "90e9f4075b23465ba551610450eb2d80",
       "version_major": 2,
       "version_minor": 0
      },
      "text/plain": [
       "Iterating through runs:   0%|          | 0/6250 [00:00<?, ?it/s]"
      ]
     },
     "metadata": {},
     "output_type": "display_data"
    },
    {
     "data": {
      "application/vnd.jupyter.widget-view+json": {
       "model_id": "debd4794fbdf4dfb91afe7463a29a12d",
       "version_major": 2,
       "version_minor": 0
      },
      "text/plain": [
       "Iterating through runs:   0%|          | 0/6250 [00:00<?, ?it/s]"
      ]
     },
     "metadata": {},
     "output_type": "display_data"
    },
    {
     "data": {
      "application/vnd.jupyter.widget-view+json": {
       "model_id": "e45049d9043542e89f5ba0247de816cb",
       "version_major": 2,
       "version_minor": 0
      },
      "text/plain": [
       "Iterating through runs:   0%|          | 0/6250 [00:00<?, ?it/s]"
      ]
     },
     "metadata": {},
     "output_type": "display_data"
    },
    {
     "data": {
      "application/vnd.jupyter.widget-view+json": {
       "model_id": "7e7d7581344647d686899a0b3bb8d890",
       "version_major": 2,
       "version_minor": 0
      },
      "text/plain": [
       "Iterating through runs:   0%|          | 0/6250 [00:00<?, ?it/s]"
      ]
     },
     "metadata": {},
     "output_type": "display_data"
    },
    {
     "data": {
      "application/vnd.jupyter.widget-view+json": {
       "model_id": "f4570c0b68994c729a9ccb6a889e723a",
       "version_major": 2,
       "version_minor": 0
      },
      "text/plain": [
       "Iterating through runs:   0%|          | 0/6250 [00:00<?, ?it/s]"
      ]
     },
     "metadata": {},
     "output_type": "display_data"
    },
    {
     "data": {
      "application/vnd.jupyter.widget-view+json": {
       "model_id": "74e083e285184b0fa1b82879b1b3569e",
       "version_major": 2,
       "version_minor": 0
      },
      "text/plain": [
       "Iterating through runs:   0%|          | 0/6250 [00:00<?, ?it/s]"
      ]
     },
     "metadata": {},
     "output_type": "display_data"
    },
    {
     "data": {
      "application/vnd.jupyter.widget-view+json": {
       "model_id": "971a61eaab6f497f85bf3419d084f3e5",
       "version_major": 2,
       "version_minor": 0
      },
      "text/plain": [
       "Iterating through runs:   0%|          | 0/6250 [00:00<?, ?it/s]"
      ]
     },
     "metadata": {},
     "output_type": "display_data"
    },
    {
     "data": {
      "application/vnd.jupyter.widget-view+json": {
       "model_id": "4aae2ad067784befbc7ea51052036a84",
       "version_major": 2,
       "version_minor": 0
      },
      "text/plain": [
       "Iterating through runs:   0%|          | 0/6250 [00:00<?, ?it/s]"
      ]
     },
     "metadata": {},
     "output_type": "display_data"
    },
    {
     "data": {
      "application/vnd.jupyter.widget-view+json": {
       "model_id": "352533ac751842eaae9c1f675651923b",
       "version_major": 2,
       "version_minor": 0
      },
      "text/plain": [
       "Iterating through runs:   0%|          | 0/6250 [00:00<?, ?it/s]"
      ]
     },
     "metadata": {},
     "output_type": "display_data"
    },
    {
     "data": {
      "application/vnd.jupyter.widget-view+json": {
       "model_id": "ce9ddf405c164a48893f6c7a167a2952",
       "version_major": 2,
       "version_minor": 0
      },
      "text/plain": [
       "Iterating through runs:   0%|          | 0/6250 [00:00<?, ?it/s]"
      ]
     },
     "metadata": {},
     "output_type": "display_data"
    },
    {
     "data": {
      "application/vnd.jupyter.widget-view+json": {
       "model_id": "22fe4655d5b34e3bbc2ff76c6aa5257e",
       "version_major": 2,
       "version_minor": 0
      },
      "text/plain": [
       "Iterating through runs:   0%|          | 0/6250 [00:00<?, ?it/s]"
      ]
     },
     "metadata": {},
     "output_type": "display_data"
    },
    {
     "data": {
      "application/vnd.jupyter.widget-view+json": {
       "model_id": "772459f167f84e6a8339377092907334",
       "version_major": 2,
       "version_minor": 0
      },
      "text/plain": [
       "Iterating through runs:   0%|          | 0/6250 [00:00<?, ?it/s]"
      ]
     },
     "metadata": {},
     "output_type": "display_data"
    },
    {
     "data": {
      "application/vnd.jupyter.widget-view+json": {
       "model_id": "7d53799286c34dc2bef19e26e6434701",
       "version_major": 2,
       "version_minor": 0
      },
      "text/plain": [
       "Iterating through runs:   0%|          | 0/6250 [00:00<?, ?it/s]"
      ]
     },
     "metadata": {},
     "output_type": "display_data"
    },
    {
     "data": {
      "application/vnd.jupyter.widget-view+json": {
       "model_id": "282849366ab54bbe8b278a23b30c02ff",
       "version_major": 2,
       "version_minor": 0
      },
      "text/plain": [
       "Iterating through runs:   0%|          | 0/6250 [00:00<?, ?it/s]"
      ]
     },
     "metadata": {},
     "output_type": "display_data"
    },
    {
     "data": {
      "application/vnd.jupyter.widget-view+json": {
       "model_id": "b63c149757e940f0ab5766b3f64a53d2",
       "version_major": 2,
       "version_minor": 0
      },
      "text/plain": [
       "Iterating through runs:   0%|          | 0/6250 [00:00<?, ?it/s]"
      ]
     },
     "metadata": {},
     "output_type": "display_data"
    },
    {
     "data": {
      "application/vnd.jupyter.widget-view+json": {
       "model_id": "66a13e148d854298bb258e04a3194cbb",
       "version_major": 2,
       "version_minor": 0
      },
      "text/plain": [
       "Iterating through runs:   0%|          | 0/6250 [00:00<?, ?it/s]"
      ]
     },
     "metadata": {},
     "output_type": "display_data"
    },
    {
     "data": {
      "application/vnd.jupyter.widget-view+json": {
       "model_id": "e875ebe7073a43dbaf76ddbfa5c59702",
       "version_major": 2,
       "version_minor": 0
      },
      "text/plain": [
       "Iterating through runs:   0%|          | 0/6250 [00:00<?, ?it/s]"
      ]
     },
     "metadata": {},
     "output_type": "display_data"
    },
    {
     "data": {
      "application/vnd.jupyter.widget-view+json": {
       "model_id": "9792ca24d08045e9beb691c801519325",
       "version_major": 2,
       "version_minor": 0
      },
      "text/plain": [
       "Iterating through runs:   0%|          | 0/6250 [00:00<?, ?it/s]"
      ]
     },
     "metadata": {},
     "output_type": "display_data"
    },
    {
     "data": {
      "application/vnd.jupyter.widget-view+json": {
       "model_id": "057b5689fcac4135bccbf707a5346ad7",
       "version_major": 2,
       "version_minor": 0
      },
      "text/plain": [
       "Iterating through runs:   0%|          | 0/6250 [00:00<?, ?it/s]"
      ]
     },
     "metadata": {},
     "output_type": "display_data"
    },
    {
     "data": {
      "application/vnd.jupyter.widget-view+json": {
       "model_id": "03a8445ddd1f44099676ebf05c46ed2c",
       "version_major": 2,
       "version_minor": 0
      },
      "text/plain": [
       "Iterating through runs:   0%|          | 0/6250 [00:00<?, ?it/s]"
      ]
     },
     "metadata": {},
     "output_type": "display_data"
    },
    {
     "data": {
      "application/vnd.jupyter.widget-view+json": {
       "model_id": "f57f7eed01a34389b131dbb53bdfcd03",
       "version_major": 2,
       "version_minor": 0
      },
      "text/plain": [
       "Iterating through runs:   0%|          | 0/6250 [00:00<?, ?it/s]"
      ]
     },
     "metadata": {},
     "output_type": "display_data"
    },
    {
     "data": {
      "application/vnd.jupyter.widget-view+json": {
       "model_id": "510d1e5cbff34d8290695d2ea9353103",
       "version_major": 2,
       "version_minor": 0
      },
      "text/plain": [
       "Iterating through runs:   0%|          | 0/6250 [00:00<?, ?it/s]"
      ]
     },
     "metadata": {},
     "output_type": "display_data"
    },
    {
     "data": {
      "application/vnd.jupyter.widget-view+json": {
       "model_id": "3cec82212d6946ec919020d4a35d0c88",
       "version_major": 2,
       "version_minor": 0
      },
      "text/plain": [
       "Iterating through runs:   0%|          | 0/6250 [00:00<?, ?it/s]"
      ]
     },
     "metadata": {},
     "output_type": "display_data"
    },
    {
     "data": {
      "application/vnd.jupyter.widget-view+json": {
       "model_id": "5eb1c920f4c74134bd7eb24d628f053d",
       "version_major": 2,
       "version_minor": 0
      },
      "text/plain": [
       "Iterating through runs:   0%|          | 0/6250 [00:00<?, ?it/s]"
      ]
     },
     "metadata": {},
     "output_type": "display_data"
    },
    {
     "data": {
      "application/vnd.jupyter.widget-view+json": {
       "model_id": "4438a0398609492a822d790c8e83e1d0",
       "version_major": 2,
       "version_minor": 0
      },
      "text/plain": [
       "Iterating through runs:   0%|          | 0/6250 [00:00<?, ?it/s]"
      ]
     },
     "metadata": {},
     "output_type": "display_data"
    },
    {
     "data": {
      "application/vnd.jupyter.widget-view+json": {
       "model_id": "98693df325ea43b1b0842f1dc2bb1470",
       "version_major": 2,
       "version_minor": 0
      },
      "text/plain": [
       "Iterating through runs:   0%|          | 0/6250 [00:00<?, ?it/s]"
      ]
     },
     "metadata": {},
     "output_type": "display_data"
    },
    {
     "data": {
      "application/vnd.jupyter.widget-view+json": {
       "model_id": "9ed9c8e1ccd3421c9bb0f53e465bdd93",
       "version_major": 2,
       "version_minor": 0
      },
      "text/plain": [
       "Iterating through runs:   0%|          | 0/6250 [00:00<?, ?it/s]"
      ]
     },
     "metadata": {},
     "output_type": "display_data"
    },
    {
     "data": {
      "application/vnd.jupyter.widget-view+json": {
       "model_id": "7525b52ed47d429ea1db6a5b41c857bd",
       "version_major": 2,
       "version_minor": 0
      },
      "text/plain": [
       "Iterating through runs:   0%|          | 0/6250 [00:00<?, ?it/s]"
      ]
     },
     "metadata": {},
     "output_type": "display_data"
    },
    {
     "data": {
      "application/vnd.jupyter.widget-view+json": {
       "model_id": "dd312a83fd8a43189113ae864c2feb71",
       "version_major": 2,
       "version_minor": 0
      },
      "text/plain": [
       "Iterating through runs:   0%|          | 0/6250 [00:00<?, ?it/s]"
      ]
     },
     "metadata": {},
     "output_type": "display_data"
    },
    {
     "data": {
      "application/vnd.jupyter.widget-view+json": {
       "model_id": "eaa7d7ab33364d4db865a7dd0a3636d4",
       "version_major": 2,
       "version_minor": 0
      },
      "text/plain": [
       "Iterating through runs:   0%|          | 0/6250 [00:00<?, ?it/s]"
      ]
     },
     "metadata": {},
     "output_type": "display_data"
    },
    {
     "data": {
      "application/vnd.jupyter.widget-view+json": {
       "model_id": "4b50d5de9b1f452ea8b0fd2f52a17acb",
       "version_major": 2,
       "version_minor": 0
      },
      "text/plain": [
       "Iterating through runs:   0%|          | 0/6250 [00:00<?, ?it/s]"
      ]
     },
     "metadata": {},
     "output_type": "display_data"
    },
    {
     "data": {
      "application/vnd.jupyter.widget-view+json": {
       "model_id": "07b06f24952b4e5b98840f5213f8a09c",
       "version_major": 2,
       "version_minor": 0
      },
      "text/plain": [
       "Iterating through runs:   0%|          | 0/6250 [00:00<?, ?it/s]"
      ]
     },
     "metadata": {},
     "output_type": "display_data"
    },
    {
     "data": {
      "application/vnd.jupyter.widget-view+json": {
       "model_id": "68fda6083bad44478746a77d7ef8565f",
       "version_major": 2,
       "version_minor": 0
      },
      "text/plain": [
       "Iterating through runs:   0%|          | 0/6250 [00:00<?, ?it/s]"
      ]
     },
     "metadata": {},
     "output_type": "display_data"
    },
    {
     "data": {
      "application/vnd.jupyter.widget-view+json": {
       "model_id": "7974f3660fed4bb393dd45c2a0160860",
       "version_major": 2,
       "version_minor": 0
      },
      "text/plain": [
       "Iterating through runs:   0%|          | 0/6250 [00:00<?, ?it/s]"
      ]
     },
     "metadata": {},
     "output_type": "display_data"
    },
    {
     "data": {
      "application/vnd.jupyter.widget-view+json": {
       "model_id": "ea83face70c34b5cbfada7155878a281",
       "version_major": 2,
       "version_minor": 0
      },
      "text/plain": [
       "Iterating through runs:   0%|          | 0/6250 [00:00<?, ?it/s]"
      ]
     },
     "metadata": {},
     "output_type": "display_data"
    },
    {
     "data": {
      "application/vnd.jupyter.widget-view+json": {
       "model_id": "5e1034f77b7648aeae39bcf4c4571ad5",
       "version_major": 2,
       "version_minor": 0
      },
      "text/plain": [
       "Iterating through runs:   0%|          | 0/6250 [00:00<?, ?it/s]"
      ]
     },
     "metadata": {},
     "output_type": "display_data"
    },
    {
     "data": {
      "application/vnd.jupyter.widget-view+json": {
       "model_id": "01aff929c75b472ba07a51c3e15eff2b",
       "version_major": 2,
       "version_minor": 0
      },
      "text/plain": [
       "Iterating through runs:   0%|          | 0/6250 [00:00<?, ?it/s]"
      ]
     },
     "metadata": {},
     "output_type": "display_data"
    },
    {
     "data": {
      "application/vnd.jupyter.widget-view+json": {
       "model_id": "71f160dfeb6d4de9b86790597eb54c16",
       "version_major": 2,
       "version_minor": 0
      },
      "text/plain": [
       "Iterating through runs:   0%|          | 0/6250 [00:00<?, ?it/s]"
      ]
     },
     "metadata": {},
     "output_type": "display_data"
    },
    {
     "data": {
      "application/vnd.jupyter.widget-view+json": {
       "model_id": "ff87071d2e9e44b3a8600df472962215",
       "version_major": 2,
       "version_minor": 0
      },
      "text/plain": [
       "Iterating through runs:   0%|          | 0/6250 [00:00<?, ?it/s]"
      ]
     },
     "metadata": {},
     "output_type": "display_data"
    },
    {
     "data": {
      "application/vnd.jupyter.widget-view+json": {
       "model_id": "11efc38189614eb48485762189ac174f",
       "version_major": 2,
       "version_minor": 0
      },
      "text/plain": [
       "Iterating through runs:   0%|          | 0/6250 [00:00<?, ?it/s]"
      ]
     },
     "metadata": {},
     "output_type": "display_data"
    },
    {
     "data": {
      "application/vnd.jupyter.widget-view+json": {
       "model_id": "87d4962e0be748428872e4fed9a023f4",
       "version_major": 2,
       "version_minor": 0
      },
      "text/plain": [
       "Iterating through runs:   0%|          | 0/6250 [00:00<?, ?it/s]"
      ]
     },
     "metadata": {},
     "output_type": "display_data"
    },
    {
     "data": {
      "application/vnd.jupyter.widget-view+json": {
       "model_id": "8a4400c37f4e417d8db595b870eb98b5",
       "version_major": 2,
       "version_minor": 0
      },
      "text/plain": [
       "Iterating through runs:   0%|          | 0/6250 [00:00<?, ?it/s]"
      ]
     },
     "metadata": {},
     "output_type": "display_data"
    },
    {
     "data": {
      "application/vnd.jupyter.widget-view+json": {
       "model_id": "9677b26b3b6f4dcc8646804c4f1a5092",
       "version_major": 2,
       "version_minor": 0
      },
      "text/plain": [
       "Processing agent files:   0%|          | 0/198 [00:00<?, ?it/s]"
      ]
     },
     "metadata": {},
     "output_type": "display_data"
    },
    {
     "data": {
      "application/vnd.jupyter.widget-view+json": {
       "model_id": "13604d09166c4f5f9dbff850c363865b",
       "version_major": 2,
       "version_minor": 0
      },
      "text/plain": [
       "iterating through agent runs:   0%|          | 0/6250 [00:00<?, ?it/s]"
      ]
     },
     "metadata": {},
     "output_type": "display_data"
    },
    {
     "data": {
      "application/vnd.jupyter.widget-view+json": {
       "model_id": "f7edc132845c48368d77e9937b0949aa",
       "version_major": 2,
       "version_minor": 0
      },
      "text/plain": [
       "iterating through agent runs:   0%|          | 0/6250 [00:00<?, ?it/s]"
      ]
     },
     "metadata": {},
     "output_type": "display_data"
    },
    {
     "data": {
      "application/vnd.jupyter.widget-view+json": {
       "model_id": "5957c782b64b4f65bb719f1ac19f8698",
       "version_major": 2,
       "version_minor": 0
      },
      "text/plain": [
       "iterating through agent runs:   0%|          | 0/6250 [00:00<?, ?it/s]"
      ]
     },
     "metadata": {},
     "output_type": "display_data"
    },
    {
     "data": {
      "application/vnd.jupyter.widget-view+json": {
       "model_id": "bc86f55470144cb98b6f531bb9c7b6e8",
       "version_major": 2,
       "version_minor": 0
      },
      "text/plain": [
       "iterating through agent runs:   0%|          | 0/6250 [00:00<?, ?it/s]"
      ]
     },
     "metadata": {},
     "output_type": "display_data"
    },
    {
     "data": {
      "application/vnd.jupyter.widget-view+json": {
       "model_id": "232b38771f194835908ce3d42bd99680",
       "version_major": 2,
       "version_minor": 0
      },
      "text/plain": [
       "iterating through agent runs:   0%|          | 0/6250 [00:00<?, ?it/s]"
      ]
     },
     "metadata": {},
     "output_type": "display_data"
    },
    {
     "data": {
      "application/vnd.jupyter.widget-view+json": {
       "model_id": "558ec513b5c64d028c56fd12f9484a8c",
       "version_major": 2,
       "version_minor": 0
      },
      "text/plain": [
       "iterating through agent runs:   0%|          | 0/6250 [00:00<?, ?it/s]"
      ]
     },
     "metadata": {},
     "output_type": "display_data"
    },
    {
     "data": {
      "application/vnd.jupyter.widget-view+json": {
       "model_id": "86780e0a8bc84549ab5557112bb127c1",
       "version_major": 2,
       "version_minor": 0
      },
      "text/plain": [
       "iterating through agent runs:   0%|          | 0/6250 [00:00<?, ?it/s]"
      ]
     },
     "metadata": {},
     "output_type": "display_data"
    },
    {
     "data": {
      "application/vnd.jupyter.widget-view+json": {
       "model_id": "2ee764ff925344ddaa9d6d597eb2a585",
       "version_major": 2,
       "version_minor": 0
      },
      "text/plain": [
       "iterating through agent runs:   0%|          | 0/6250 [00:00<?, ?it/s]"
      ]
     },
     "metadata": {},
     "output_type": "display_data"
    },
    {
     "data": {
      "application/vnd.jupyter.widget-view+json": {
       "model_id": "b947b7fbfb334c26a006f771b441c1a5",
       "version_major": 2,
       "version_minor": 0
      },
      "text/plain": [
       "iterating through agent runs:   0%|          | 0/6250 [00:00<?, ?it/s]"
      ]
     },
     "metadata": {},
     "output_type": "display_data"
    },
    {
     "data": {
      "application/vnd.jupyter.widget-view+json": {
       "model_id": "0aa5ab0101c744689477c5a8184cfe0b",
       "version_major": 2,
       "version_minor": 0
      },
      "text/plain": [
       "iterating through agent runs:   0%|          | 0/6250 [00:00<?, ?it/s]"
      ]
     },
     "metadata": {},
     "output_type": "display_data"
    },
    {
     "data": {
      "application/vnd.jupyter.widget-view+json": {
       "model_id": "2874653c0e3a464e82eb28b83056c2be",
       "version_major": 2,
       "version_minor": 0
      },
      "text/plain": [
       "iterating through agent runs:   0%|          | 0/6250 [00:00<?, ?it/s]"
      ]
     },
     "metadata": {},
     "output_type": "display_data"
    },
    {
     "data": {
      "application/vnd.jupyter.widget-view+json": {
       "model_id": "e0de54d05bdc41579be51b618c29b777",
       "version_major": 2,
       "version_minor": 0
      },
      "text/plain": [
       "iterating through agent runs:   0%|          | 0/6250 [00:00<?, ?it/s]"
      ]
     },
     "metadata": {},
     "output_type": "display_data"
    },
    {
     "data": {
      "application/vnd.jupyter.widget-view+json": {
       "model_id": "8a742b7cb02d46a8a27174ae25d863e7",
       "version_major": 2,
       "version_minor": 0
      },
      "text/plain": [
       "iterating through agent runs:   0%|          | 0/6250 [00:00<?, ?it/s]"
      ]
     },
     "metadata": {},
     "output_type": "display_data"
    },
    {
     "data": {
      "application/vnd.jupyter.widget-view+json": {
       "model_id": "612918ab154448d3b829991d9d50cb56",
       "version_major": 2,
       "version_minor": 0
      },
      "text/plain": [
       "iterating through agent runs:   0%|          | 0/6250 [00:00<?, ?it/s]"
      ]
     },
     "metadata": {},
     "output_type": "display_data"
    },
    {
     "data": {
      "application/vnd.jupyter.widget-view+json": {
       "model_id": "f493050bcc9842e793ae3af660a932ea",
       "version_major": 2,
       "version_minor": 0
      },
      "text/plain": [
       "iterating through agent runs:   0%|          | 0/6250 [00:00<?, ?it/s]"
      ]
     },
     "metadata": {},
     "output_type": "display_data"
    },
    {
     "data": {
      "application/vnd.jupyter.widget-view+json": {
       "model_id": "6548e289e10b472ba2c6c21fb4b1ff2a",
       "version_major": 2,
       "version_minor": 0
      },
      "text/plain": [
       "iterating through agent runs:   0%|          | 0/6250 [00:00<?, ?it/s]"
      ]
     },
     "metadata": {},
     "output_type": "display_data"
    },
    {
     "data": {
      "application/vnd.jupyter.widget-view+json": {
       "model_id": "b19578c402604629912e30dfbe2ff969",
       "version_major": 2,
       "version_minor": 0
      },
      "text/plain": [
       "iterating through agent runs:   0%|          | 0/6250 [00:00<?, ?it/s]"
      ]
     },
     "metadata": {},
     "output_type": "display_data"
    },
    {
     "data": {
      "application/vnd.jupyter.widget-view+json": {
       "model_id": "b350fe5b0ce94d8fa08fe148fd350642",
       "version_major": 2,
       "version_minor": 0
      },
      "text/plain": [
       "iterating through agent runs:   0%|          | 0/6250 [00:00<?, ?it/s]"
      ]
     },
     "metadata": {},
     "output_type": "display_data"
    },
    {
     "data": {
      "application/vnd.jupyter.widget-view+json": {
       "model_id": "9fe26dc0bfbd4fef833437cbb615149c",
       "version_major": 2,
       "version_minor": 0
      },
      "text/plain": [
       "iterating through agent runs:   0%|          | 0/6250 [00:00<?, ?it/s]"
      ]
     },
     "metadata": {},
     "output_type": "display_data"
    },
    {
     "data": {
      "application/vnd.jupyter.widget-view+json": {
       "model_id": "45a2185b44c748098cf22dedf25d9277",
       "version_major": 2,
       "version_minor": 0
      },
      "text/plain": [
       "iterating through agent runs:   0%|          | 0/6250 [00:00<?, ?it/s]"
      ]
     },
     "metadata": {},
     "output_type": "display_data"
    },
    {
     "data": {
      "application/vnd.jupyter.widget-view+json": {
       "model_id": "af57950404804c62b9ec0eb65ca351b8",
       "version_major": 2,
       "version_minor": 0
      },
      "text/plain": [
       "iterating through agent runs:   0%|          | 0/6250 [00:00<?, ?it/s]"
      ]
     },
     "metadata": {},
     "output_type": "display_data"
    },
    {
     "data": {
      "application/vnd.jupyter.widget-view+json": {
       "model_id": "a813325bdb744607b6af7590ba032a17",
       "version_major": 2,
       "version_minor": 0
      },
      "text/plain": [
       "iterating through agent runs:   0%|          | 0/6250 [00:00<?, ?it/s]"
      ]
     },
     "metadata": {},
     "output_type": "display_data"
    },
    {
     "data": {
      "application/vnd.jupyter.widget-view+json": {
       "model_id": "1e180a6ddb6f4d1b9c7da7e367a365ca",
       "version_major": 2,
       "version_minor": 0
      },
      "text/plain": [
       "iterating through agent runs:   0%|          | 0/6250 [00:00<?, ?it/s]"
      ]
     },
     "metadata": {},
     "output_type": "display_data"
    },
    {
     "data": {
      "application/vnd.jupyter.widget-view+json": {
       "model_id": "2290f0a2003b4b719066efb86638aa02",
       "version_major": 2,
       "version_minor": 0
      },
      "text/plain": [
       "iterating through agent runs:   0%|          | 0/6250 [00:00<?, ?it/s]"
      ]
     },
     "metadata": {},
     "output_type": "display_data"
    },
    {
     "data": {
      "application/vnd.jupyter.widget-view+json": {
       "model_id": "83a36b961de34dc592c573e9b6131f5f",
       "version_major": 2,
       "version_minor": 0
      },
      "text/plain": [
       "iterating through agent runs:   0%|          | 0/6250 [00:00<?, ?it/s]"
      ]
     },
     "metadata": {},
     "output_type": "display_data"
    },
    {
     "data": {
      "application/vnd.jupyter.widget-view+json": {
       "model_id": "4d424313e797438da1e77bd72d77dd3c",
       "version_major": 2,
       "version_minor": 0
      },
      "text/plain": [
       "iterating through agent runs:   0%|          | 0/6250 [00:00<?, ?it/s]"
      ]
     },
     "metadata": {},
     "output_type": "display_data"
    },
    {
     "data": {
      "application/vnd.jupyter.widget-view+json": {
       "model_id": "f82f14505a6a4d47bbd7b03fd2318fa2",
       "version_major": 2,
       "version_minor": 0
      },
      "text/plain": [
       "iterating through agent runs:   0%|          | 0/6250 [00:00<?, ?it/s]"
      ]
     },
     "metadata": {},
     "output_type": "display_data"
    },
    {
     "data": {
      "application/vnd.jupyter.widget-view+json": {
       "model_id": "104e98f0a96141318782028b3475e8d4",
       "version_major": 2,
       "version_minor": 0
      },
      "text/plain": [
       "iterating through agent runs:   0%|          | 0/6250 [00:00<?, ?it/s]"
      ]
     },
     "metadata": {},
     "output_type": "display_data"
    },
    {
     "data": {
      "application/vnd.jupyter.widget-view+json": {
       "model_id": "50472f71569746a59527bf463cb390ff",
       "version_major": 2,
       "version_minor": 0
      },
      "text/plain": [
       "iterating through agent runs:   0%|          | 0/6250 [00:00<?, ?it/s]"
      ]
     },
     "metadata": {},
     "output_type": "display_data"
    },
    {
     "data": {
      "application/vnd.jupyter.widget-view+json": {
       "model_id": "7387336c46124d5eb2df192d17d95059",
       "version_major": 2,
       "version_minor": 0
      },
      "text/plain": [
       "iterating through agent runs:   0%|          | 0/6250 [00:00<?, ?it/s]"
      ]
     },
     "metadata": {},
     "output_type": "display_data"
    },
    {
     "data": {
      "application/vnd.jupyter.widget-view+json": {
       "model_id": "19ebf8f319304c5dbe0912d6330a385b",
       "version_major": 2,
       "version_minor": 0
      },
      "text/plain": [
       "iterating through agent runs:   0%|          | 0/6250 [00:00<?, ?it/s]"
      ]
     },
     "metadata": {},
     "output_type": "display_data"
    },
    {
     "data": {
      "application/vnd.jupyter.widget-view+json": {
       "model_id": "75044fa9ae7249c98339822c4286570b",
       "version_major": 2,
       "version_minor": 0
      },
      "text/plain": [
       "iterating through agent runs:   0%|          | 0/6250 [00:00<?, ?it/s]"
      ]
     },
     "metadata": {},
     "output_type": "display_data"
    },
    {
     "data": {
      "application/vnd.jupyter.widget-view+json": {
       "model_id": "db7d2200529c4a07abf497ffb4530411",
       "version_major": 2,
       "version_minor": 0
      },
      "text/plain": [
       "iterating through agent runs:   0%|          | 0/6250 [00:00<?, ?it/s]"
      ]
     },
     "metadata": {},
     "output_type": "display_data"
    },
    {
     "data": {
      "application/vnd.jupyter.widget-view+json": {
       "model_id": "e33e51d5724947d9a848d7b97dd94638",
       "version_major": 2,
       "version_minor": 0
      },
      "text/plain": [
       "iterating through agent runs:   0%|          | 0/6250 [00:00<?, ?it/s]"
      ]
     },
     "metadata": {},
     "output_type": "display_data"
    },
    {
     "data": {
      "application/vnd.jupyter.widget-view+json": {
       "model_id": "e7f9eb5d00b3423ab1247ed87c33bb5c",
       "version_major": 2,
       "version_minor": 0
      },
      "text/plain": [
       "iterating through agent runs:   0%|          | 0/6250 [00:00<?, ?it/s]"
      ]
     },
     "metadata": {},
     "output_type": "display_data"
    },
    {
     "data": {
      "application/vnd.jupyter.widget-view+json": {
       "model_id": "2c864cb9fb5f44f6b3a9d624af9d9352",
       "version_major": 2,
       "version_minor": 0
      },
      "text/plain": [
       "iterating through agent runs:   0%|          | 0/6250 [00:00<?, ?it/s]"
      ]
     },
     "metadata": {},
     "output_type": "display_data"
    },
    {
     "data": {
      "application/vnd.jupyter.widget-view+json": {
       "model_id": "c0bad54fa5cb40e2bde7de47faf38976",
       "version_major": 2,
       "version_minor": 0
      },
      "text/plain": [
       "iterating through agent runs:   0%|          | 0/6250 [00:00<?, ?it/s]"
      ]
     },
     "metadata": {},
     "output_type": "display_data"
    },
    {
     "data": {
      "application/vnd.jupyter.widget-view+json": {
       "model_id": "eb15a5c09d66428e9f86510e5605a633",
       "version_major": 2,
       "version_minor": 0
      },
      "text/plain": [
       "iterating through agent runs:   0%|          | 0/6250 [00:00<?, ?it/s]"
      ]
     },
     "metadata": {},
     "output_type": "display_data"
    },
    {
     "data": {
      "application/vnd.jupyter.widget-view+json": {
       "model_id": "36c42d64d5e148bfbed1ca52c3e3e542",
       "version_major": 2,
       "version_minor": 0
      },
      "text/plain": [
       "iterating through agent runs:   0%|          | 0/6250 [00:00<?, ?it/s]"
      ]
     },
     "metadata": {},
     "output_type": "display_data"
    },
    {
     "data": {
      "application/vnd.jupyter.widget-view+json": {
       "model_id": "78731e5d734e4270ba017daa48da2ffb",
       "version_major": 2,
       "version_minor": 0
      },
      "text/plain": [
       "iterating through agent runs:   0%|          | 0/6250 [00:00<?, ?it/s]"
      ]
     },
     "metadata": {},
     "output_type": "display_data"
    },
    {
     "data": {
      "application/vnd.jupyter.widget-view+json": {
       "model_id": "f457296f04b84ae488c39ad8a636ad45",
       "version_major": 2,
       "version_minor": 0
      },
      "text/plain": [
       "iterating through agent runs:   0%|          | 0/6250 [00:00<?, ?it/s]"
      ]
     },
     "metadata": {},
     "output_type": "display_data"
    },
    {
     "data": {
      "application/vnd.jupyter.widget-view+json": {
       "model_id": "72a885fada3c427ba36d887f103f679f",
       "version_major": 2,
       "version_minor": 0
      },
      "text/plain": [
       "iterating through agent runs:   0%|          | 0/6250 [00:00<?, ?it/s]"
      ]
     },
     "metadata": {},
     "output_type": "display_data"
    },
    {
     "data": {
      "application/vnd.jupyter.widget-view+json": {
       "model_id": "8891466569fc4f59899ddf3f3e931eb6",
       "version_major": 2,
       "version_minor": 0
      },
      "text/plain": [
       "iterating through agent runs:   0%|          | 0/6250 [00:00<?, ?it/s]"
      ]
     },
     "metadata": {},
     "output_type": "display_data"
    },
    {
     "data": {
      "application/vnd.jupyter.widget-view+json": {
       "model_id": "985899fdd8a04f20a8b982a77bff32eb",
       "version_major": 2,
       "version_minor": 0
      },
      "text/plain": [
       "iterating through agent runs:   0%|          | 0/6250 [00:00<?, ?it/s]"
      ]
     },
     "metadata": {},
     "output_type": "display_data"
    },
    {
     "data": {
      "application/vnd.jupyter.widget-view+json": {
       "model_id": "d24e893596804a9a8c379cf66cab0919",
       "version_major": 2,
       "version_minor": 0
      },
      "text/plain": [
       "iterating through agent runs:   0%|          | 0/6250 [00:00<?, ?it/s]"
      ]
     },
     "metadata": {},
     "output_type": "display_data"
    },
    {
     "data": {
      "application/vnd.jupyter.widget-view+json": {
       "model_id": "dece46426393479b8f4977dedc129079",
       "version_major": 2,
       "version_minor": 0
      },
      "text/plain": [
       "iterating through agent runs:   0%|          | 0/6250 [00:00<?, ?it/s]"
      ]
     },
     "metadata": {},
     "output_type": "display_data"
    },
    {
     "data": {
      "application/vnd.jupyter.widget-view+json": {
       "model_id": "bbc6e44d84324e7fa45785752a9e89df",
       "version_major": 2,
       "version_minor": 0
      },
      "text/plain": [
       "iterating through agent runs:   0%|          | 0/6250 [00:00<?, ?it/s]"
      ]
     },
     "metadata": {},
     "output_type": "display_data"
    },
    {
     "data": {
      "application/vnd.jupyter.widget-view+json": {
       "model_id": "b93e40b9ee504374a6a2a203c0b4a53b",
       "version_major": 2,
       "version_minor": 0
      },
      "text/plain": [
       "iterating through agent runs:   0%|          | 0/6250 [00:00<?, ?it/s]"
      ]
     },
     "metadata": {},
     "output_type": "display_data"
    },
    {
     "data": {
      "application/vnd.jupyter.widget-view+json": {
       "model_id": "9ca42309fb63411d8707ae747a1d1f4c",
       "version_major": 2,
       "version_minor": 0
      },
      "text/plain": [
       "iterating through agent runs:   0%|          | 0/6250 [00:00<?, ?it/s]"
      ]
     },
     "metadata": {},
     "output_type": "display_data"
    },
    {
     "data": {
      "application/vnd.jupyter.widget-view+json": {
       "model_id": "005c414a0c2f46e5bf54bf4623980498",
       "version_major": 2,
       "version_minor": 0
      },
      "text/plain": [
       "iterating through agent runs:   0%|          | 0/6250 [00:00<?, ?it/s]"
      ]
     },
     "metadata": {},
     "output_type": "display_data"
    },
    {
     "data": {
      "application/vnd.jupyter.widget-view+json": {
       "model_id": "18d534ddb7b94139abd3619f8e3ff6ca",
       "version_major": 2,
       "version_minor": 0
      },
      "text/plain": [
       "iterating through agent runs:   0%|          | 0/6250 [00:00<?, ?it/s]"
      ]
     },
     "metadata": {},
     "output_type": "display_data"
    },
    {
     "data": {
      "application/vnd.jupyter.widget-view+json": {
       "model_id": "9c23897a5e944b49b6531b797a20b601",
       "version_major": 2,
       "version_minor": 0
      },
      "text/plain": [
       "iterating through agent runs:   0%|          | 0/6250 [00:00<?, ?it/s]"
      ]
     },
     "metadata": {},
     "output_type": "display_data"
    },
    {
     "data": {
      "application/vnd.jupyter.widget-view+json": {
       "model_id": "de7ad823722a42749a39539d89288ebd",
       "version_major": 2,
       "version_minor": 0
      },
      "text/plain": [
       "iterating through agent runs:   0%|          | 0/6250 [00:00<?, ?it/s]"
      ]
     },
     "metadata": {},
     "output_type": "display_data"
    },
    {
     "data": {
      "application/vnd.jupyter.widget-view+json": {
       "model_id": "3422c53879074849be0412ff7c981d6b",
       "version_major": 2,
       "version_minor": 0
      },
      "text/plain": [
       "iterating through agent runs:   0%|          | 0/6250 [00:00<?, ?it/s]"
      ]
     },
     "metadata": {},
     "output_type": "display_data"
    },
    {
     "data": {
      "application/vnd.jupyter.widget-view+json": {
       "model_id": "9ddbcc2e60a6425d83188b8b67e2ba6a",
       "version_major": 2,
       "version_minor": 0
      },
      "text/plain": [
       "iterating through agent runs:   0%|          | 0/6250 [00:00<?, ?it/s]"
      ]
     },
     "metadata": {},
     "output_type": "display_data"
    },
    {
     "data": {
      "application/vnd.jupyter.widget-view+json": {
       "model_id": "0ad648b060e745b489784c439746e097",
       "version_major": 2,
       "version_minor": 0
      },
      "text/plain": [
       "iterating through agent runs:   0%|          | 0/6250 [00:00<?, ?it/s]"
      ]
     },
     "metadata": {},
     "output_type": "display_data"
    },
    {
     "data": {
      "application/vnd.jupyter.widget-view+json": {
       "model_id": "3b40dd0efefc41038218cf399ba050d2",
       "version_major": 2,
       "version_minor": 0
      },
      "text/plain": [
       "iterating through agent runs:   0%|          | 0/6250 [00:00<?, ?it/s]"
      ]
     },
     "metadata": {},
     "output_type": "display_data"
    },
    {
     "data": {
      "application/vnd.jupyter.widget-view+json": {
       "model_id": "afe068a5c5b746aea8ef90add8255221",
       "version_major": 2,
       "version_minor": 0
      },
      "text/plain": [
       "iterating through agent runs:   0%|          | 0/6250 [00:00<?, ?it/s]"
      ]
     },
     "metadata": {},
     "output_type": "display_data"
    },
    {
     "data": {
      "application/vnd.jupyter.widget-view+json": {
       "model_id": "d32d5a061bb74caeac4b5de59c1e3918",
       "version_major": 2,
       "version_minor": 0
      },
      "text/plain": [
       "iterating through agent runs:   0%|          | 0/6250 [00:00<?, ?it/s]"
      ]
     },
     "metadata": {},
     "output_type": "display_data"
    },
    {
     "data": {
      "application/vnd.jupyter.widget-view+json": {
       "model_id": "98571265313c41678010d5c79bd18974",
       "version_major": 2,
       "version_minor": 0
      },
      "text/plain": [
       "iterating through agent runs:   0%|          | 0/6250 [00:00<?, ?it/s]"
      ]
     },
     "metadata": {},
     "output_type": "display_data"
    },
    {
     "data": {
      "application/vnd.jupyter.widget-view+json": {
       "model_id": "1ce5fa44291a49e88b116b3f69a0c67c",
       "version_major": 2,
       "version_minor": 0
      },
      "text/plain": [
       "iterating through agent runs:   0%|          | 0/6250 [00:00<?, ?it/s]"
      ]
     },
     "metadata": {},
     "output_type": "display_data"
    },
    {
     "data": {
      "application/vnd.jupyter.widget-view+json": {
       "model_id": "c903d41060de449b923bfb4162a48776",
       "version_major": 2,
       "version_minor": 0
      },
      "text/plain": [
       "iterating through agent runs:   0%|          | 0/6250 [00:00<?, ?it/s]"
      ]
     },
     "metadata": {},
     "output_type": "display_data"
    },
    {
     "data": {
      "application/vnd.jupyter.widget-view+json": {
       "model_id": "920a484ca8984a8185ea972121b68524",
       "version_major": 2,
       "version_minor": 0
      },
      "text/plain": [
       "iterating through agent runs:   0%|          | 0/6250 [00:00<?, ?it/s]"
      ]
     },
     "metadata": {},
     "output_type": "display_data"
    },
    {
     "data": {
      "application/vnd.jupyter.widget-view+json": {
       "model_id": "4d67fe2b08b14ea2b513216651955512",
       "version_major": 2,
       "version_minor": 0
      },
      "text/plain": [
       "iterating through agent runs:   0%|          | 0/6250 [00:00<?, ?it/s]"
      ]
     },
     "metadata": {},
     "output_type": "display_data"
    },
    {
     "data": {
      "application/vnd.jupyter.widget-view+json": {
       "model_id": "7b16283ea2864dd5869f193d6d4e6d5d",
       "version_major": 2,
       "version_minor": 0
      },
      "text/plain": [
       "iterating through agent runs:   0%|          | 0/6250 [00:00<?, ?it/s]"
      ]
     },
     "metadata": {},
     "output_type": "display_data"
    },
    {
     "data": {
      "application/vnd.jupyter.widget-view+json": {
       "model_id": "7fd5484e9ddf44c9a779c0b9a2ba74eb",
       "version_major": 2,
       "version_minor": 0
      },
      "text/plain": [
       "iterating through agent runs:   0%|          | 0/6250 [00:00<?, ?it/s]"
      ]
     },
     "metadata": {},
     "output_type": "display_data"
    },
    {
     "data": {
      "application/vnd.jupyter.widget-view+json": {
       "model_id": "fa40b41ca0c9493cbc440c3c7d29f81e",
       "version_major": 2,
       "version_minor": 0
      },
      "text/plain": [
       "iterating through agent runs:   0%|          | 0/6250 [00:00<?, ?it/s]"
      ]
     },
     "metadata": {},
     "output_type": "display_data"
    },
    {
     "data": {
      "application/vnd.jupyter.widget-view+json": {
       "model_id": "6bd3d467eea64db3bce7073e4baa4fee",
       "version_major": 2,
       "version_minor": 0
      },
      "text/plain": [
       "iterating through agent runs:   0%|          | 0/6250 [00:00<?, ?it/s]"
      ]
     },
     "metadata": {},
     "output_type": "display_data"
    },
    {
     "data": {
      "application/vnd.jupyter.widget-view+json": {
       "model_id": "f5afcb32771542d0b51b9db450ea60b9",
       "version_major": 2,
       "version_minor": 0
      },
      "text/plain": [
       "iterating through agent runs:   0%|          | 0/6250 [00:00<?, ?it/s]"
      ]
     },
     "metadata": {},
     "output_type": "display_data"
    },
    {
     "data": {
      "application/vnd.jupyter.widget-view+json": {
       "model_id": "cccb5119a0624f3b8e05432158c90a9d",
       "version_major": 2,
       "version_minor": 0
      },
      "text/plain": [
       "iterating through agent runs:   0%|          | 0/6250 [00:00<?, ?it/s]"
      ]
     },
     "metadata": {},
     "output_type": "display_data"
    },
    {
     "data": {
      "application/vnd.jupyter.widget-view+json": {
       "model_id": "273e11f946734e84b5ab9627c9057fb7",
       "version_major": 2,
       "version_minor": 0
      },
      "text/plain": [
       "iterating through agent runs:   0%|          | 0/6250 [00:00<?, ?it/s]"
      ]
     },
     "metadata": {},
     "output_type": "display_data"
    },
    {
     "data": {
      "application/vnd.jupyter.widget-view+json": {
       "model_id": "3e33304fab744578aeb7931cab59eb15",
       "version_major": 2,
       "version_minor": 0
      },
      "text/plain": [
       "iterating through agent runs:   0%|          | 0/6250 [00:00<?, ?it/s]"
      ]
     },
     "metadata": {},
     "output_type": "display_data"
    },
    {
     "data": {
      "application/vnd.jupyter.widget-view+json": {
       "model_id": "7de12503f31c4b0aa74f36173b13887b",
       "version_major": 2,
       "version_minor": 0
      },
      "text/plain": [
       "iterating through agent runs:   0%|          | 0/6250 [00:00<?, ?it/s]"
      ]
     },
     "metadata": {},
     "output_type": "display_data"
    },
    {
     "data": {
      "application/vnd.jupyter.widget-view+json": {
       "model_id": "c8fb69fac15047f89b74c2316abfc64e",
       "version_major": 2,
       "version_minor": 0
      },
      "text/plain": [
       "iterating through agent runs:   0%|          | 0/6250 [00:00<?, ?it/s]"
      ]
     },
     "metadata": {},
     "output_type": "display_data"
    },
    {
     "data": {
      "application/vnd.jupyter.widget-view+json": {
       "model_id": "fbf5d221530a47d3944386db5d8dfa92",
       "version_major": 2,
       "version_minor": 0
      },
      "text/plain": [
       "iterating through agent runs:   0%|          | 0/6250 [00:00<?, ?it/s]"
      ]
     },
     "metadata": {},
     "output_type": "display_data"
    },
    {
     "data": {
      "application/vnd.jupyter.widget-view+json": {
       "model_id": "46d1ee3cf3a745ce8e9feb000f3cca07",
       "version_major": 2,
       "version_minor": 0
      },
      "text/plain": [
       "iterating through agent runs:   0%|          | 0/6250 [00:00<?, ?it/s]"
      ]
     },
     "metadata": {},
     "output_type": "display_data"
    },
    {
     "data": {
      "application/vnd.jupyter.widget-view+json": {
       "model_id": "bf05da3894784889bef1f378452d03da",
       "version_major": 2,
       "version_minor": 0
      },
      "text/plain": [
       "iterating through agent runs:   0%|          | 0/6250 [00:00<?, ?it/s]"
      ]
     },
     "metadata": {},
     "output_type": "display_data"
    },
    {
     "data": {
      "application/vnd.jupyter.widget-view+json": {
       "model_id": "0a35dd1f7a3946eea7c7576fb234e405",
       "version_major": 2,
       "version_minor": 0
      },
      "text/plain": [
       "iterating through agent runs:   0%|          | 0/6250 [00:00<?, ?it/s]"
      ]
     },
     "metadata": {},
     "output_type": "display_data"
    },
    {
     "data": {
      "application/vnd.jupyter.widget-view+json": {
       "model_id": "74832b4b59fb4de7bf29935906a0d499",
       "version_major": 2,
       "version_minor": 0
      },
      "text/plain": [
       "iterating through agent runs:   0%|          | 0/6250 [00:00<?, ?it/s]"
      ]
     },
     "metadata": {},
     "output_type": "display_data"
    },
    {
     "data": {
      "application/vnd.jupyter.widget-view+json": {
       "model_id": "57b1d46533614a42b03f45ab0fd7779f",
       "version_major": 2,
       "version_minor": 0
      },
      "text/plain": [
       "iterating through agent runs:   0%|          | 0/6250 [00:00<?, ?it/s]"
      ]
     },
     "metadata": {},
     "output_type": "display_data"
    },
    {
     "data": {
      "application/vnd.jupyter.widget-view+json": {
       "model_id": "6d72b0b8ce6f4a3c8db9e2513d5d7c8d",
       "version_major": 2,
       "version_minor": 0
      },
      "text/plain": [
       "iterating through agent runs:   0%|          | 0/6250 [00:00<?, ?it/s]"
      ]
     },
     "metadata": {},
     "output_type": "display_data"
    },
    {
     "data": {
      "application/vnd.jupyter.widget-view+json": {
       "model_id": "83218eedb7274cf0aa0cc7795a43ff6e",
       "version_major": 2,
       "version_minor": 0
      },
      "text/plain": [
       "iterating through agent runs:   0%|          | 0/6250 [00:00<?, ?it/s]"
      ]
     },
     "metadata": {},
     "output_type": "display_data"
    },
    {
     "data": {
      "application/vnd.jupyter.widget-view+json": {
       "model_id": "3cce68d91bf841fc8e9cfb8c70f97ec4",
       "version_major": 2,
       "version_minor": 0
      },
      "text/plain": [
       "iterating through agent runs:   0%|          | 0/6250 [00:00<?, ?it/s]"
      ]
     },
     "metadata": {},
     "output_type": "display_data"
    },
    {
     "data": {
      "application/vnd.jupyter.widget-view+json": {
       "model_id": "8754ba8a21b3489187d5bd12cce48a99",
       "version_major": 2,
       "version_minor": 0
      },
      "text/plain": [
       "iterating through agent runs:   0%|          | 0/6250 [00:00<?, ?it/s]"
      ]
     },
     "metadata": {},
     "output_type": "display_data"
    },
    {
     "data": {
      "application/vnd.jupyter.widget-view+json": {
       "model_id": "dd1007e58e4143839bf508100fbcbfa5",
       "version_major": 2,
       "version_minor": 0
      },
      "text/plain": [
       "iterating through agent runs:   0%|          | 0/6250 [00:00<?, ?it/s]"
      ]
     },
     "metadata": {},
     "output_type": "display_data"
    },
    {
     "data": {
      "application/vnd.jupyter.widget-view+json": {
       "model_id": "21902491217742da93fa8238ecc81236",
       "version_major": 2,
       "version_minor": 0
      },
      "text/plain": [
       "iterating through agent runs:   0%|          | 0/6250 [00:00<?, ?it/s]"
      ]
     },
     "metadata": {},
     "output_type": "display_data"
    },
    {
     "data": {
      "application/vnd.jupyter.widget-view+json": {
       "model_id": "1b7b7394dcae4dd0aeea2a011e9d9454",
       "version_major": 2,
       "version_minor": 0
      },
      "text/plain": [
       "iterating through agent runs:   0%|          | 0/6250 [00:00<?, ?it/s]"
      ]
     },
     "metadata": {},
     "output_type": "display_data"
    },
    {
     "data": {
      "application/vnd.jupyter.widget-view+json": {
       "model_id": "ce4a56bbdeae4a70a17e22122ba7b82d",
       "version_major": 2,
       "version_minor": 0
      },
      "text/plain": [
       "iterating through agent runs:   0%|          | 0/6250 [00:00<?, ?it/s]"
      ]
     },
     "metadata": {},
     "output_type": "display_data"
    },
    {
     "data": {
      "application/vnd.jupyter.widget-view+json": {
       "model_id": "5dac98321efe4382907c8de0a4adb92e",
       "version_major": 2,
       "version_minor": 0
      },
      "text/plain": [
       "iterating through agent runs:   0%|          | 0/6250 [00:00<?, ?it/s]"
      ]
     },
     "metadata": {},
     "output_type": "display_data"
    },
    {
     "data": {
      "application/vnd.jupyter.widget-view+json": {
       "model_id": "0faeba88cc574d5d8090d2176b614f60",
       "version_major": 2,
       "version_minor": 0
      },
      "text/plain": [
       "iterating through agent runs:   0%|          | 0/6250 [00:00<?, ?it/s]"
      ]
     },
     "metadata": {},
     "output_type": "display_data"
    },
    {
     "name": "stderr",
     "output_type": "stream",
     "text": [
      "\n",
      "KeyboardInterrupt\n",
      "\n"
     ]
    }
   ],
   "source": [
    "# seems to be working, let's do a full fetch for everything... :3\n",
    "all_prefixes = ['true_150', 'true_200',\n",
    "                'false_150', 'false_200']\n",
    "for prefix in all_prefixes:\n",
    "    print(f\"Processing {prefix}...\")\n",
    "    fetch_all_data(prefix, 200, 40)\n",
    "    clear_output(wait=False)"
   ]
  },
  {
   "cell_type": "code",
   "execution_count": 12,
   "id": "29091446-6502-4e08-abd8-6c40336628b2",
   "metadata": {
    "scrolled": true
   },
   "outputs": [
    {
     "data": {
      "application/vnd.jupyter.widget-view+json": {
       "model_id": "b09e4c88fc384372bb8110ada308ed73",
       "version_major": 2,
       "version_minor": 0
      },
      "text/plain": [
       "Processing agent files:   0%|          | 0/109 [00:00<?, ?it/s]"
      ]
     },
     "metadata": {},
     "output_type": "display_data"
    },
    {
     "data": {
      "application/vnd.jupyter.widget-view+json": {
       "model_id": "3e0c0a4d47ef4ca88b9ccb0f4d1b779f",
       "version_major": 2,
       "version_minor": 0
      },
      "text/plain": [
       "iterating through agent runs:   0%|          | 0/6250 [00:00<?, ?it/s]"
      ]
     },
     "metadata": {},
     "output_type": "display_data"
    },
    {
     "data": {
      "application/vnd.jupyter.widget-view+json": {
       "model_id": "c9d4851acdb74a9796a6a4439374488e",
       "version_major": 2,
       "version_minor": 0
      },
      "text/plain": [
       "iterating through agent runs:   0%|          | 0/6250 [00:00<?, ?it/s]"
      ]
     },
     "metadata": {},
     "output_type": "display_data"
    },
    {
     "data": {
      "application/vnd.jupyter.widget-view+json": {
       "model_id": "24e21133af1b4f32aada07a74de48aa2",
       "version_major": 2,
       "version_minor": 0
      },
      "text/plain": [
       "iterating through agent runs:   0%|          | 0/6250 [00:00<?, ?it/s]"
      ]
     },
     "metadata": {},
     "output_type": "display_data"
    },
    {
     "data": {
      "application/vnd.jupyter.widget-view+json": {
       "model_id": "42d58ef9c49c4497b9b9183381db6309",
       "version_major": 2,
       "version_minor": 0
      },
      "text/plain": [
       "iterating through agent runs:   0%|          | 0/6250 [00:00<?, ?it/s]"
      ]
     },
     "metadata": {},
     "output_type": "display_data"
    },
    {
     "data": {
      "application/vnd.jupyter.widget-view+json": {
       "model_id": "18a861464a3745eda55ff63000bfa65d",
       "version_major": 2,
       "version_minor": 0
      },
      "text/plain": [
       "iterating through agent runs:   0%|          | 0/6250 [00:00<?, ?it/s]"
      ]
     },
     "metadata": {},
     "output_type": "display_data"
    },
    {
     "data": {
      "application/vnd.jupyter.widget-view+json": {
       "model_id": "7bf7c84d31f843f1b544a3a38e8714e7",
       "version_major": 2,
       "version_minor": 0
      },
      "text/plain": [
       "iterating through agent runs:   0%|          | 0/6250 [00:00<?, ?it/s]"
      ]
     },
     "metadata": {},
     "output_type": "display_data"
    },
    {
     "data": {
      "application/vnd.jupyter.widget-view+json": {
       "model_id": "7a5ccbccb8af4e2aaab4c9b4470ebe55",
       "version_major": 2,
       "version_minor": 0
      },
      "text/plain": [
       "iterating through agent runs:   0%|          | 0/6250 [00:00<?, ?it/s]"
      ]
     },
     "metadata": {},
     "output_type": "display_data"
    },
    {
     "data": {
      "application/vnd.jupyter.widget-view+json": {
       "model_id": "fe7f1ddf95f64c87aac2c658ff12ff58",
       "version_major": 2,
       "version_minor": 0
      },
      "text/plain": [
       "iterating through agent runs:   0%|          | 0/6250 [00:00<?, ?it/s]"
      ]
     },
     "metadata": {},
     "output_type": "display_data"
    },
    {
     "data": {
      "application/vnd.jupyter.widget-view+json": {
       "model_id": "8987148b75d64b598bc7cb267d8a33db",
       "version_major": 2,
       "version_minor": 0
      },
      "text/plain": [
       "iterating through agent runs:   0%|          | 0/6250 [00:00<?, ?it/s]"
      ]
     },
     "metadata": {},
     "output_type": "display_data"
    },
    {
     "data": {
      "application/vnd.jupyter.widget-view+json": {
       "model_id": "01c2077d50324d81af649099f4440586",
       "version_major": 2,
       "version_minor": 0
      },
      "text/plain": [
       "iterating through agent runs:   0%|          | 0/6250 [00:00<?, ?it/s]"
      ]
     },
     "metadata": {},
     "output_type": "display_data"
    },
    {
     "data": {
      "application/vnd.jupyter.widget-view+json": {
       "model_id": "0a6be01341094f398ef0aa4a88e68dee",
       "version_major": 2,
       "version_minor": 0
      },
      "text/plain": [
       "iterating through agent runs:   0%|          | 0/6250 [00:00<?, ?it/s]"
      ]
     },
     "metadata": {},
     "output_type": "display_data"
    },
    {
     "data": {
      "application/vnd.jupyter.widget-view+json": {
       "model_id": "2edcfb9a0df244958aa316d5f813ab56",
       "version_major": 2,
       "version_minor": 0
      },
      "text/plain": [
       "iterating through agent runs:   0%|          | 0/6250 [00:00<?, ?it/s]"
      ]
     },
     "metadata": {},
     "output_type": "display_data"
    },
    {
     "data": {
      "application/vnd.jupyter.widget-view+json": {
       "model_id": "231e11ef84d04bd1b37f9a276920f95f",
       "version_major": 2,
       "version_minor": 0
      },
      "text/plain": [
       "iterating through agent runs:   0%|          | 0/6250 [00:00<?, ?it/s]"
      ]
     },
     "metadata": {},
     "output_type": "display_data"
    },
    {
     "data": {
      "application/vnd.jupyter.widget-view+json": {
       "model_id": "287384debce24a21b6d063e2dac7eb5d",
       "version_major": 2,
       "version_minor": 0
      },
      "text/plain": [
       "iterating through agent runs:   0%|          | 0/6250 [00:00<?, ?it/s]"
      ]
     },
     "metadata": {},
     "output_type": "display_data"
    },
    {
     "data": {
      "application/vnd.jupyter.widget-view+json": {
       "model_id": "f4c054b6a8eb40c38e30421a7a0a76e6",
       "version_major": 2,
       "version_minor": 0
      },
      "text/plain": [
       "iterating through agent runs:   0%|          | 0/6250 [00:00<?, ?it/s]"
      ]
     },
     "metadata": {},
     "output_type": "display_data"
    },
    {
     "data": {
      "application/vnd.jupyter.widget-view+json": {
       "model_id": "c9b906c095654b35b8e2576f8c69ea78",
       "version_major": 2,
       "version_minor": 0
      },
      "text/plain": [
       "iterating through agent runs:   0%|          | 0/6250 [00:00<?, ?it/s]"
      ]
     },
     "metadata": {},
     "output_type": "display_data"
    },
    {
     "data": {
      "application/vnd.jupyter.widget-view+json": {
       "model_id": "8501af2bac894e1981090bba03102b2b",
       "version_major": 2,
       "version_minor": 0
      },
      "text/plain": [
       "iterating through agent runs:   0%|          | 0/6250 [00:00<?, ?it/s]"
      ]
     },
     "metadata": {},
     "output_type": "display_data"
    },
    {
     "data": {
      "application/vnd.jupyter.widget-view+json": {
       "model_id": "bead60d9d81c4a5b9573efdcc31d7388",
       "version_major": 2,
       "version_minor": 0
      },
      "text/plain": [
       "iterating through agent runs:   0%|          | 0/6250 [00:00<?, ?it/s]"
      ]
     },
     "metadata": {},
     "output_type": "display_data"
    },
    {
     "data": {
      "application/vnd.jupyter.widget-view+json": {
       "model_id": "7d9503e5e1824a8a9d742054edcde668",
       "version_major": 2,
       "version_minor": 0
      },
      "text/plain": [
       "iterating through agent runs:   0%|          | 0/6250 [00:00<?, ?it/s]"
      ]
     },
     "metadata": {},
     "output_type": "display_data"
    },
    {
     "data": {
      "application/vnd.jupyter.widget-view+json": {
       "model_id": "605d44baea114fa091cb2990f1b42565",
       "version_major": 2,
       "version_minor": 0
      },
      "text/plain": [
       "iterating through agent runs:   0%|          | 0/6250 [00:00<?, ?it/s]"
      ]
     },
     "metadata": {},
     "output_type": "display_data"
    },
    {
     "data": {
      "application/vnd.jupyter.widget-view+json": {
       "model_id": "87090caad49446bbac5bfd2c4f54f063",
       "version_major": 2,
       "version_minor": 0
      },
      "text/plain": [
       "iterating through agent runs:   0%|          | 0/6250 [00:00<?, ?it/s]"
      ]
     },
     "metadata": {},
     "output_type": "display_data"
    },
    {
     "data": {
      "application/vnd.jupyter.widget-view+json": {
       "model_id": "091ec601f3cf44c08a697d5a782813f5",
       "version_major": 2,
       "version_minor": 0
      },
      "text/plain": [
       "iterating through agent runs:   0%|          | 0/6250 [00:00<?, ?it/s]"
      ]
     },
     "metadata": {},
     "output_type": "display_data"
    },
    {
     "data": {
      "application/vnd.jupyter.widget-view+json": {
       "model_id": "664ed1b9bcb24df5ad99d950ad76a1ec",
       "version_major": 2,
       "version_minor": 0
      },
      "text/plain": [
       "iterating through agent runs:   0%|          | 0/6250 [00:00<?, ?it/s]"
      ]
     },
     "metadata": {},
     "output_type": "display_data"
    },
    {
     "data": {
      "application/vnd.jupyter.widget-view+json": {
       "model_id": "b768b74bdeb94559a451764560639bc3",
       "version_major": 2,
       "version_minor": 0
      },
      "text/plain": [
       "iterating through agent runs:   0%|          | 0/6250 [00:00<?, ?it/s]"
      ]
     },
     "metadata": {},
     "output_type": "display_data"
    },
    {
     "data": {
      "application/vnd.jupyter.widget-view+json": {
       "model_id": "0c0a961faa21488eb138993731f13d45",
       "version_major": 2,
       "version_minor": 0
      },
      "text/plain": [
       "iterating through agent runs:   0%|          | 0/6250 [00:00<?, ?it/s]"
      ]
     },
     "metadata": {},
     "output_type": "display_data"
    },
    {
     "data": {
      "application/vnd.jupyter.widget-view+json": {
       "model_id": "1f91ece59f884f1a98b085b629a9fee0",
       "version_major": 2,
       "version_minor": 0
      },
      "text/plain": [
       "iterating through agent runs:   0%|          | 0/6250 [00:00<?, ?it/s]"
      ]
     },
     "metadata": {},
     "output_type": "display_data"
    },
    {
     "data": {
      "application/vnd.jupyter.widget-view+json": {
       "model_id": "83b5bf08934b4403a09f8ff97bdc43a1",
       "version_major": 2,
       "version_minor": 0
      },
      "text/plain": [
       "iterating through agent runs:   0%|          | 0/6250 [00:00<?, ?it/s]"
      ]
     },
     "metadata": {},
     "output_type": "display_data"
    },
    {
     "data": {
      "application/vnd.jupyter.widget-view+json": {
       "model_id": "31a66bdb0bb04cc1ba00b0814212e42b",
       "version_major": 2,
       "version_minor": 0
      },
      "text/plain": [
       "iterating through agent runs:   0%|          | 0/6250 [00:00<?, ?it/s]"
      ]
     },
     "metadata": {},
     "output_type": "display_data"
    },
    {
     "data": {
      "application/vnd.jupyter.widget-view+json": {
       "model_id": "0dc00b5bb363439bbdf0354cbc0b683f",
       "version_major": 2,
       "version_minor": 0
      },
      "text/plain": [
       "iterating through agent runs:   0%|          | 0/6250 [00:00<?, ?it/s]"
      ]
     },
     "metadata": {},
     "output_type": "display_data"
    },
    {
     "data": {
      "application/vnd.jupyter.widget-view+json": {
       "model_id": "54342961b17a44cf86170b3e0a2e8f85",
       "version_major": 2,
       "version_minor": 0
      },
      "text/plain": [
       "iterating through agent runs:   0%|          | 0/6250 [00:00<?, ?it/s]"
      ]
     },
     "metadata": {},
     "output_type": "display_data"
    },
    {
     "data": {
      "application/vnd.jupyter.widget-view+json": {
       "model_id": "de17759780b84ccd90c235344ca69779",
       "version_major": 2,
       "version_minor": 0
      },
      "text/plain": [
       "iterating through agent runs:   0%|          | 0/6250 [00:00<?, ?it/s]"
      ]
     },
     "metadata": {},
     "output_type": "display_data"
    },
    {
     "data": {
      "application/vnd.jupyter.widget-view+json": {
       "model_id": "44ac5b93c0c14143a1f8f1531832c4f8",
       "version_major": 2,
       "version_minor": 0
      },
      "text/plain": [
       "iterating through agent runs:   0%|          | 0/6250 [00:00<?, ?it/s]"
      ]
     },
     "metadata": {},
     "output_type": "display_data"
    },
    {
     "data": {
      "application/vnd.jupyter.widget-view+json": {
       "model_id": "54afbd23b7cd41749732cf4aae61f77e",
       "version_major": 2,
       "version_minor": 0
      },
      "text/plain": [
       "iterating through agent runs:   0%|          | 0/6250 [00:00<?, ?it/s]"
      ]
     },
     "metadata": {},
     "output_type": "display_data"
    },
    {
     "data": {
      "application/vnd.jupyter.widget-view+json": {
       "model_id": "2622a097a9cf4500b777b30dcc910c13",
       "version_major": 2,
       "version_minor": 0
      },
      "text/plain": [
       "iterating through agent runs:   0%|          | 0/6250 [00:00<?, ?it/s]"
      ]
     },
     "metadata": {},
     "output_type": "display_data"
    },
    {
     "data": {
      "application/vnd.jupyter.widget-view+json": {
       "model_id": "4c10b796c1bb4e7b87851700adcfa962",
       "version_major": 2,
       "version_minor": 0
      },
      "text/plain": [
       "iterating through agent runs:   0%|          | 0/6250 [00:00<?, ?it/s]"
      ]
     },
     "metadata": {},
     "output_type": "display_data"
    },
    {
     "data": {
      "application/vnd.jupyter.widget-view+json": {
       "model_id": "df6dc44ef69e438895ce3ee345d9b0c1",
       "version_major": 2,
       "version_minor": 0
      },
      "text/plain": [
       "iterating through agent runs:   0%|          | 0/6250 [00:00<?, ?it/s]"
      ]
     },
     "metadata": {},
     "output_type": "display_data"
    },
    {
     "data": {
      "application/vnd.jupyter.widget-view+json": {
       "model_id": "154e75fb9e1440ebbdfcd54733ae30c5",
       "version_major": 2,
       "version_minor": 0
      },
      "text/plain": [
       "iterating through agent runs:   0%|          | 0/6250 [00:00<?, ?it/s]"
      ]
     },
     "metadata": {},
     "output_type": "display_data"
    },
    {
     "data": {
      "application/vnd.jupyter.widget-view+json": {
       "model_id": "134e41e29a4c401c8dee1d277dfbb598",
       "version_major": 2,
       "version_minor": 0
      },
      "text/plain": [
       "iterating through agent runs:   0%|          | 0/6250 [00:00<?, ?it/s]"
      ]
     },
     "metadata": {},
     "output_type": "display_data"
    },
    {
     "data": {
      "application/vnd.jupyter.widget-view+json": {
       "model_id": "2d13e75bbdbb45a0b56a808fefe5149c",
       "version_major": 2,
       "version_minor": 0
      },
      "text/plain": [
       "iterating through agent runs:   0%|          | 0/6250 [00:00<?, ?it/s]"
      ]
     },
     "metadata": {},
     "output_type": "display_data"
    },
    {
     "data": {
      "application/vnd.jupyter.widget-view+json": {
       "model_id": "ca1d2bc15ceb411b91c57a19da65200c",
       "version_major": 2,
       "version_minor": 0
      },
      "text/plain": [
       "iterating through agent runs:   0%|          | 0/6250 [00:00<?, ?it/s]"
      ]
     },
     "metadata": {},
     "output_type": "display_data"
    },
    {
     "data": {
      "application/vnd.jupyter.widget-view+json": {
       "model_id": "19dbaa6927e349f29c93e8cb8932d2c0",
       "version_major": 2,
       "version_minor": 0
      },
      "text/plain": [
       "iterating through agent runs:   0%|          | 0/6250 [00:00<?, ?it/s]"
      ]
     },
     "metadata": {},
     "output_type": "display_data"
    },
    {
     "data": {
      "application/vnd.jupyter.widget-view+json": {
       "model_id": "3d3904ea63f64334b22bcea03d5213cb",
       "version_major": 2,
       "version_minor": 0
      },
      "text/plain": [
       "iterating through agent runs:   0%|          | 0/6250 [00:00<?, ?it/s]"
      ]
     },
     "metadata": {},
     "output_type": "display_data"
    },
    {
     "data": {
      "application/vnd.jupyter.widget-view+json": {
       "model_id": "41d7c4199b3642e7b7f45f4d7cc1ad4b",
       "version_major": 2,
       "version_minor": 0
      },
      "text/plain": [
       "iterating through agent runs:   0%|          | 0/6250 [00:00<?, ?it/s]"
      ]
     },
     "metadata": {},
     "output_type": "display_data"
    },
    {
     "data": {
      "application/vnd.jupyter.widget-view+json": {
       "model_id": "365a58e021184cc1907c7e837ddbac86",
       "version_major": 2,
       "version_minor": 0
      },
      "text/plain": [
       "iterating through agent runs:   0%|          | 0/6250 [00:00<?, ?it/s]"
      ]
     },
     "metadata": {},
     "output_type": "display_data"
    },
    {
     "data": {
      "application/vnd.jupyter.widget-view+json": {
       "model_id": "b715554246b6404691fe94f2bdf3aec1",
       "version_major": 2,
       "version_minor": 0
      },
      "text/plain": [
       "iterating through agent runs:   0%|          | 0/6250 [00:00<?, ?it/s]"
      ]
     },
     "metadata": {},
     "output_type": "display_data"
    },
    {
     "data": {
      "application/vnd.jupyter.widget-view+json": {
       "model_id": "fcff7ed19311401bbbd1672bb83302d1",
       "version_major": 2,
       "version_minor": 0
      },
      "text/plain": [
       "iterating through agent runs:   0%|          | 0/6250 [00:00<?, ?it/s]"
      ]
     },
     "metadata": {},
     "output_type": "display_data"
    },
    {
     "data": {
      "application/vnd.jupyter.widget-view+json": {
       "model_id": "ef7c310a02224988a088dee537cc45ef",
       "version_major": 2,
       "version_minor": 0
      },
      "text/plain": [
       "iterating through agent runs:   0%|          | 0/6250 [00:00<?, ?it/s]"
      ]
     },
     "metadata": {},
     "output_type": "display_data"
    },
    {
     "data": {
      "application/vnd.jupyter.widget-view+json": {
       "model_id": "e7a05252fd194165ae965f769e413b4b",
       "version_major": 2,
       "version_minor": 0
      },
      "text/plain": [
       "iterating through agent runs:   0%|          | 0/6250 [00:00<?, ?it/s]"
      ]
     },
     "metadata": {},
     "output_type": "display_data"
    },
    {
     "data": {
      "application/vnd.jupyter.widget-view+json": {
       "model_id": "0d36d026b390449197f1c6062d5d425b",
       "version_major": 2,
       "version_minor": 0
      },
      "text/plain": [
       "iterating through agent runs:   0%|          | 0/6250 [00:00<?, ?it/s]"
      ]
     },
     "metadata": {},
     "output_type": "display_data"
    },
    {
     "data": {
      "application/vnd.jupyter.widget-view+json": {
       "model_id": "e3c552f29f124a8d97453c48c080b357",
       "version_major": 2,
       "version_minor": 0
      },
      "text/plain": [
       "iterating through agent runs:   0%|          | 0/6250 [00:00<?, ?it/s]"
      ]
     },
     "metadata": {},
     "output_type": "display_data"
    },
    {
     "data": {
      "application/vnd.jupyter.widget-view+json": {
       "model_id": "1d649991a9d0474fa5eb7196927aef92",
       "version_major": 2,
       "version_minor": 0
      },
      "text/plain": [
       "iterating through agent runs:   0%|          | 0/6250 [00:00<?, ?it/s]"
      ]
     },
     "metadata": {},
     "output_type": "display_data"
    },
    {
     "data": {
      "application/vnd.jupyter.widget-view+json": {
       "model_id": "aad3cf08efd94a3f8087d377b757a01d",
       "version_major": 2,
       "version_minor": 0
      },
      "text/plain": [
       "iterating through agent runs:   0%|          | 0/6250 [00:00<?, ?it/s]"
      ]
     },
     "metadata": {},
     "output_type": "display_data"
    },
    {
     "data": {
      "application/vnd.jupyter.widget-view+json": {
       "model_id": "facd11615400419fb46133cebeb9a4db",
       "version_major": 2,
       "version_minor": 0
      },
      "text/plain": [
       "iterating through agent runs:   0%|          | 0/6250 [00:00<?, ?it/s]"
      ]
     },
     "metadata": {},
     "output_type": "display_data"
    },
    {
     "data": {
      "application/vnd.jupyter.widget-view+json": {
       "model_id": "3fbe90710ccc4c9db606fa31af5464f6",
       "version_major": 2,
       "version_minor": 0
      },
      "text/plain": [
       "iterating through agent runs:   0%|          | 0/6250 [00:00<?, ?it/s]"
      ]
     },
     "metadata": {},
     "output_type": "display_data"
    },
    {
     "data": {
      "application/vnd.jupyter.widget-view+json": {
       "model_id": "3f54782057fe48adad6793095891ffc9",
       "version_major": 2,
       "version_minor": 0
      },
      "text/plain": [
       "iterating through agent runs:   0%|          | 0/6250 [00:00<?, ?it/s]"
      ]
     },
     "metadata": {},
     "output_type": "display_data"
    },
    {
     "data": {
      "application/vnd.jupyter.widget-view+json": {
       "model_id": "574c6be30373418f8908902607c7e60e",
       "version_major": 2,
       "version_minor": 0
      },
      "text/plain": [
       "iterating through agent runs:   0%|          | 0/6250 [00:00<?, ?it/s]"
      ]
     },
     "metadata": {},
     "output_type": "display_data"
    },
    {
     "data": {
      "application/vnd.jupyter.widget-view+json": {
       "model_id": "efafdb74a72c4d2180745395f9fa7b42",
       "version_major": 2,
       "version_minor": 0
      },
      "text/plain": [
       "iterating through agent runs:   0%|          | 0/6250 [00:00<?, ?it/s]"
      ]
     },
     "metadata": {},
     "output_type": "display_data"
    },
    {
     "data": {
      "application/vnd.jupyter.widget-view+json": {
       "model_id": "8b310911ed9b4bcebd0d64857639b21e",
       "version_major": 2,
       "version_minor": 0
      },
      "text/plain": [
       "iterating through agent runs:   0%|          | 0/6250 [00:00<?, ?it/s]"
      ]
     },
     "metadata": {},
     "output_type": "display_data"
    },
    {
     "data": {
      "application/vnd.jupyter.widget-view+json": {
       "model_id": "702ff1de8b214dd4a40d02f977fdc9e9",
       "version_major": 2,
       "version_minor": 0
      },
      "text/plain": [
       "iterating through agent runs:   0%|          | 0/6250 [00:00<?, ?it/s]"
      ]
     },
     "metadata": {},
     "output_type": "display_data"
    },
    {
     "data": {
      "application/vnd.jupyter.widget-view+json": {
       "model_id": "ec79fe6c55224ac086600f8a515b8c33",
       "version_major": 2,
       "version_minor": 0
      },
      "text/plain": [
       "iterating through agent runs:   0%|          | 0/6250 [00:00<?, ?it/s]"
      ]
     },
     "metadata": {},
     "output_type": "display_data"
    },
    {
     "data": {
      "application/vnd.jupyter.widget-view+json": {
       "model_id": "b90cc3c35f304ea2907896e88e4b4db7",
       "version_major": 2,
       "version_minor": 0
      },
      "text/plain": [
       "iterating through agent runs:   0%|          | 0/6250 [00:00<?, ?it/s]"
      ]
     },
     "metadata": {},
     "output_type": "display_data"
    },
    {
     "data": {
      "application/vnd.jupyter.widget-view+json": {
       "model_id": "83862889d0d047f29a48b63ff47d7a55",
       "version_major": 2,
       "version_minor": 0
      },
      "text/plain": [
       "iterating through agent runs:   0%|          | 0/6250 [00:00<?, ?it/s]"
      ]
     },
     "metadata": {},
     "output_type": "display_data"
    },
    {
     "data": {
      "application/vnd.jupyter.widget-view+json": {
       "model_id": "e346df74a8144ed0b962e02cc6aa09e3",
       "version_major": 2,
       "version_minor": 0
      },
      "text/plain": [
       "iterating through agent runs:   0%|          | 0/6250 [00:00<?, ?it/s]"
      ]
     },
     "metadata": {},
     "output_type": "display_data"
    },
    {
     "data": {
      "application/vnd.jupyter.widget-view+json": {
       "model_id": "4a757c102f8d4d0b978f68054925c02a",
       "version_major": 2,
       "version_minor": 0
      },
      "text/plain": [
       "iterating through agent runs:   0%|          | 0/6250 [00:00<?, ?it/s]"
      ]
     },
     "metadata": {},
     "output_type": "display_data"
    },
    {
     "data": {
      "application/vnd.jupyter.widget-view+json": {
       "model_id": "5bbc7fc2f79f4974a9bd2d0f00d9cc03",
       "version_major": 2,
       "version_minor": 0
      },
      "text/plain": [
       "iterating through agent runs:   0%|          | 0/6250 [00:00<?, ?it/s]"
      ]
     },
     "metadata": {},
     "output_type": "display_data"
    },
    {
     "data": {
      "application/vnd.jupyter.widget-view+json": {
       "model_id": "eea356ab017b4a1cb15847123fd9aa88",
       "version_major": 2,
       "version_minor": 0
      },
      "text/plain": [
       "iterating through agent runs:   0%|          | 0/6250 [00:00<?, ?it/s]"
      ]
     },
     "metadata": {},
     "output_type": "display_data"
    },
    {
     "data": {
      "application/vnd.jupyter.widget-view+json": {
       "model_id": "eb800c1af61e4077915340197d1b94e4",
       "version_major": 2,
       "version_minor": 0
      },
      "text/plain": [
       "iterating through agent runs:   0%|          | 0/6250 [00:00<?, ?it/s]"
      ]
     },
     "metadata": {},
     "output_type": "display_data"
    },
    {
     "data": {
      "application/vnd.jupyter.widget-view+json": {
       "model_id": "7ea1557a7eff4312b17ec1b4d0fcb58f",
       "version_major": 2,
       "version_minor": 0
      },
      "text/plain": [
       "iterating through agent runs:   0%|          | 0/6250 [00:00<?, ?it/s]"
      ]
     },
     "metadata": {},
     "output_type": "display_data"
    },
    {
     "data": {
      "application/vnd.jupyter.widget-view+json": {
       "model_id": "17e2ae67f05b4611a5b4b28a35702e00",
       "version_major": 2,
       "version_minor": 0
      },
      "text/plain": [
       "iterating through agent runs:   0%|          | 0/6250 [00:00<?, ?it/s]"
      ]
     },
     "metadata": {},
     "output_type": "display_data"
    },
    {
     "data": {
      "application/vnd.jupyter.widget-view+json": {
       "model_id": "fc2499772fc544f68477de6fcba0cb87",
       "version_major": 2,
       "version_minor": 0
      },
      "text/plain": [
       "iterating through agent runs:   0%|          | 0/6250 [00:00<?, ?it/s]"
      ]
     },
     "metadata": {},
     "output_type": "display_data"
    },
    {
     "data": {
      "application/vnd.jupyter.widget-view+json": {
       "model_id": "fef43483b9b444efab5a6f49eb4f97cf",
       "version_major": 2,
       "version_minor": 0
      },
      "text/plain": [
       "iterating through agent runs:   0%|          | 0/6250 [00:00<?, ?it/s]"
      ]
     },
     "metadata": {},
     "output_type": "display_data"
    },
    {
     "data": {
      "application/vnd.jupyter.widget-view+json": {
       "model_id": "a052a90037db40f593b6ea9dd25b4742",
       "version_major": 2,
       "version_minor": 0
      },
      "text/plain": [
       "iterating through agent runs:   0%|          | 0/6250 [00:00<?, ?it/s]"
      ]
     },
     "metadata": {},
     "output_type": "display_data"
    },
    {
     "data": {
      "application/vnd.jupyter.widget-view+json": {
       "model_id": "08d2191f0508487687529cdec75c2da7",
       "version_major": 2,
       "version_minor": 0
      },
      "text/plain": [
       "iterating through agent runs:   0%|          | 0/6250 [00:00<?, ?it/s]"
      ]
     },
     "metadata": {},
     "output_type": "display_data"
    },
    {
     "data": {
      "application/vnd.jupyter.widget-view+json": {
       "model_id": "7a8b96e3e8bc4503aef6e120f3a82433",
       "version_major": 2,
       "version_minor": 0
      },
      "text/plain": [
       "iterating through agent runs:   0%|          | 0/6250 [00:00<?, ?it/s]"
      ]
     },
     "metadata": {},
     "output_type": "display_data"
    },
    {
     "data": {
      "application/vnd.jupyter.widget-view+json": {
       "model_id": "ca0c8497a96946a39dff6973a76dbba7",
       "version_major": 2,
       "version_minor": 0
      },
      "text/plain": [
       "iterating through agent runs:   0%|          | 0/6250 [00:00<?, ?it/s]"
      ]
     },
     "metadata": {},
     "output_type": "display_data"
    },
    {
     "data": {
      "application/vnd.jupyter.widget-view+json": {
       "model_id": "85444a4d278b4ae19c24e78380ee57f7",
       "version_major": 2,
       "version_minor": 0
      },
      "text/plain": [
       "iterating through agent runs:   0%|          | 0/6250 [00:00<?, ?it/s]"
      ]
     },
     "metadata": {},
     "output_type": "display_data"
    },
    {
     "data": {
      "application/vnd.jupyter.widget-view+json": {
       "model_id": "c939efd2318241849bbf0a83bfec2aac",
       "version_major": 2,
       "version_minor": 0
      },
      "text/plain": [
       "iterating through agent runs:   0%|          | 0/6250 [00:00<?, ?it/s]"
      ]
     },
     "metadata": {},
     "output_type": "display_data"
    },
    {
     "data": {
      "application/vnd.jupyter.widget-view+json": {
       "model_id": "0057121f24324ac882cb79df09440539",
       "version_major": 2,
       "version_minor": 0
      },
      "text/plain": [
       "iterating through agent runs:   0%|          | 0/6250 [00:00<?, ?it/s]"
      ]
     },
     "metadata": {},
     "output_type": "display_data"
    },
    {
     "data": {
      "application/vnd.jupyter.widget-view+json": {
       "model_id": "8e84ae09500346a1a40730a726f6f1bf",
       "version_major": 2,
       "version_minor": 0
      },
      "text/plain": [
       "iterating through agent runs:   0%|          | 0/6250 [00:00<?, ?it/s]"
      ]
     },
     "metadata": {},
     "output_type": "display_data"
    },
    {
     "data": {
      "application/vnd.jupyter.widget-view+json": {
       "model_id": "03c9e3900d604cc1879bbb839269a932",
       "version_major": 2,
       "version_minor": 0
      },
      "text/plain": [
       "iterating through agent runs:   0%|          | 0/6250 [00:00<?, ?it/s]"
      ]
     },
     "metadata": {},
     "output_type": "display_data"
    },
    {
     "data": {
      "application/vnd.jupyter.widget-view+json": {
       "model_id": "14a443d7328e4c74ad61edee05708262",
       "version_major": 2,
       "version_minor": 0
      },
      "text/plain": [
       "iterating through agent runs:   0%|          | 0/6250 [00:00<?, ?it/s]"
      ]
     },
     "metadata": {},
     "output_type": "display_data"
    },
    {
     "data": {
      "application/vnd.jupyter.widget-view+json": {
       "model_id": "d8986e38c29846a594de95a99bdda67a",
       "version_major": 2,
       "version_minor": 0
      },
      "text/plain": [
       "iterating through agent runs:   0%|          | 0/6250 [00:00<?, ?it/s]"
      ]
     },
     "metadata": {},
     "output_type": "display_data"
    },
    {
     "data": {
      "application/vnd.jupyter.widget-view+json": {
       "model_id": "11d8093656844276bdb85a8e9624ad7e",
       "version_major": 2,
       "version_minor": 0
      },
      "text/plain": [
       "iterating through agent runs:   0%|          | 0/6250 [00:00<?, ?it/s]"
      ]
     },
     "metadata": {},
     "output_type": "display_data"
    },
    {
     "data": {
      "application/vnd.jupyter.widget-view+json": {
       "model_id": "5024534934244963a48f0d1c0324ec94",
       "version_major": 2,
       "version_minor": 0
      },
      "text/plain": [
       "iterating through agent runs:   0%|          | 0/6250 [00:00<?, ?it/s]"
      ]
     },
     "metadata": {},
     "output_type": "display_data"
    },
    {
     "data": {
      "application/vnd.jupyter.widget-view+json": {
       "model_id": "e40a4e0445f545a997c9d485e0459c58",
       "version_major": 2,
       "version_minor": 0
      },
      "text/plain": [
       "iterating through agent runs:   0%|          | 0/6250 [00:00<?, ?it/s]"
      ]
     },
     "metadata": {},
     "output_type": "display_data"
    },
    {
     "data": {
      "application/vnd.jupyter.widget-view+json": {
       "model_id": "43fe1b102385400aa66d50aa1a42a584",
       "version_major": 2,
       "version_minor": 0
      },
      "text/plain": [
       "iterating through agent runs:   0%|          | 0/6250 [00:00<?, ?it/s]"
      ]
     },
     "metadata": {},
     "output_type": "display_data"
    },
    {
     "data": {
      "application/vnd.jupyter.widget-view+json": {
       "model_id": "ac54a1d509c44381b072a2ce71b27c65",
       "version_major": 2,
       "version_minor": 0
      },
      "text/plain": [
       "iterating through agent runs:   0%|          | 0/6250 [00:00<?, ?it/s]"
      ]
     },
     "metadata": {},
     "output_type": "display_data"
    },
    {
     "data": {
      "application/vnd.jupyter.widget-view+json": {
       "model_id": "591a2fdaf8a248c79f504df639071643",
       "version_major": 2,
       "version_minor": 0
      },
      "text/plain": [
       "iterating through agent runs:   0%|          | 0/6250 [00:00<?, ?it/s]"
      ]
     },
     "metadata": {},
     "output_type": "display_data"
    },
    {
     "data": {
      "application/vnd.jupyter.widget-view+json": {
       "model_id": "6f2508037565445194389d8bfe231a2a",
       "version_major": 2,
       "version_minor": 0
      },
      "text/plain": [
       "iterating through agent runs:   0%|          | 0/6250 [00:00<?, ?it/s]"
      ]
     },
     "metadata": {},
     "output_type": "display_data"
    },
    {
     "data": {
      "application/vnd.jupyter.widget-view+json": {
       "model_id": "c5208c649ef64121a3a9f3df8d2db53b",
       "version_major": 2,
       "version_minor": 0
      },
      "text/plain": [
       "iterating through agent runs:   0%|          | 0/6250 [00:00<?, ?it/s]"
      ]
     },
     "metadata": {},
     "output_type": "display_data"
    },
    {
     "data": {
      "application/vnd.jupyter.widget-view+json": {
       "model_id": "07d69efabba94835bd4ae0d59a3eac38",
       "version_major": 2,
       "version_minor": 0
      },
      "text/plain": [
       "iterating through agent runs:   0%|          | 0/6250 [00:00<?, ?it/s]"
      ]
     },
     "metadata": {},
     "output_type": "display_data"
    },
    {
     "data": {
      "application/vnd.jupyter.widget-view+json": {
       "model_id": "e86462bb34af47f090842ef0a8949d3b",
       "version_major": 2,
       "version_minor": 0
      },
      "text/plain": [
       "iterating through agent runs:   0%|          | 0/6250 [00:00<?, ?it/s]"
      ]
     },
     "metadata": {},
     "output_type": "display_data"
    },
    {
     "data": {
      "application/vnd.jupyter.widget-view+json": {
       "model_id": "353076ff81ac4789bf0333f4d490d24b",
       "version_major": 2,
       "version_minor": 0
      },
      "text/plain": [
       "iterating through agent runs:   0%|          | 0/6250 [00:00<?, ?it/s]"
      ]
     },
     "metadata": {},
     "output_type": "display_data"
    },
    {
     "data": {
      "application/vnd.jupyter.widget-view+json": {
       "model_id": "48d6ee419d4149d88adef945b0aa9612",
       "version_major": 2,
       "version_minor": 0
      },
      "text/plain": [
       "iterating through agent runs:   0%|          | 0/6250 [00:00<?, ?it/s]"
      ]
     },
     "metadata": {},
     "output_type": "display_data"
    },
    {
     "data": {
      "application/vnd.jupyter.widget-view+json": {
       "model_id": "7a251d22da1c401d9c14483ecbf239a9",
       "version_major": 2,
       "version_minor": 0
      },
      "text/plain": [
       "iterating through agent runs:   0%|          | 0/6250 [00:00<?, ?it/s]"
      ]
     },
     "metadata": {},
     "output_type": "display_data"
    },
    {
     "data": {
      "application/vnd.jupyter.widget-view+json": {
       "model_id": "7c33144999454fdc8658370a5578f81f",
       "version_major": 2,
       "version_minor": 0
      },
      "text/plain": [
       "iterating through agent runs:   0%|          | 0/6250 [00:00<?, ?it/s]"
      ]
     },
     "metadata": {},
     "output_type": "display_data"
    },
    {
     "data": {
      "application/vnd.jupyter.widget-view+json": {
       "model_id": "6ac9e6870e924b0aa9a238bc29819f5f",
       "version_major": 2,
       "version_minor": 0
      },
      "text/plain": [
       "iterating through agent runs:   0%|          | 0/6250 [00:00<?, ?it/s]"
      ]
     },
     "metadata": {},
     "output_type": "display_data"
    },
    {
     "data": {
      "application/vnd.jupyter.widget-view+json": {
       "model_id": "df9e2b3e59de4eada6288c2ed57957a9",
       "version_major": 2,
       "version_minor": 0
      },
      "text/plain": [
       "iterating through agent runs:   0%|          | 0/6250 [00:00<?, ?it/s]"
      ]
     },
     "metadata": {},
     "output_type": "display_data"
    },
    {
     "data": {
      "application/vnd.jupyter.widget-view+json": {
       "model_id": "c57e7e9e45684c2ea180be89a376616f",
       "version_major": 2,
       "version_minor": 0
      },
      "text/plain": [
       "iterating through agent runs:   0%|          | 0/6250 [00:00<?, ?it/s]"
      ]
     },
     "metadata": {},
     "output_type": "display_data"
    },
    {
     "data": {
      "application/vnd.jupyter.widget-view+json": {
       "model_id": "de7536c60fb94544b8022c083c8087c1",
       "version_major": 2,
       "version_minor": 0
      },
      "text/plain": [
       "iterating through agent runs:   0%|          | 0/6250 [00:00<?, ?it/s]"
      ]
     },
     "metadata": {},
     "output_type": "display_data"
    },
    {
     "data": {
      "application/vnd.jupyter.widget-view+json": {
       "model_id": "e4cc08c856524a08a1bf0d11e0350231",
       "version_major": 2,
       "version_minor": 0
      },
      "text/plain": [
       "iterating through agent runs:   0%|          | 0/6250 [00:00<?, ?it/s]"
      ]
     },
     "metadata": {},
     "output_type": "display_data"
    },
    {
     "data": {
      "application/vnd.jupyter.widget-view+json": {
       "model_id": "85da2f00a2f84bcc870ca21795b936ab",
       "version_major": 2,
       "version_minor": 0
      },
      "text/plain": [
       "iterating through agent runs:   0%|          | 0/6250 [00:00<?, ?it/s]"
      ]
     },
     "metadata": {},
     "output_type": "display_data"
    },
    {
     "data": {
      "application/vnd.jupyter.widget-view+json": {
       "model_id": "b578d46e01a74cbfbc7015487a32bcdd",
       "version_major": 2,
       "version_minor": 0
      },
      "text/plain": [
       "iterating through agent runs:   0%|          | 0/6250 [00:00<?, ?it/s]"
      ]
     },
     "metadata": {},
     "output_type": "display_data"
    },
    {
     "data": {
      "application/vnd.jupyter.widget-view+json": {
       "model_id": "56bad49ca0394f5bb05deb0ba5236630",
       "version_major": 2,
       "version_minor": 0
      },
      "text/plain": [
       "iterating through agent runs:   0%|          | 0/6250 [00:00<?, ?it/s]"
      ]
     },
     "metadata": {},
     "output_type": "display_data"
    },
    {
     "data": {
      "application/vnd.jupyter.widget-view+json": {
       "model_id": "b6ef7ffb7ee64d7a8fbb5b96c1436c36",
       "version_major": 2,
       "version_minor": 0
      },
      "text/plain": [
       "iterating through agent runs:   0%|          | 0/6250 [00:00<?, ?it/s]"
      ]
     },
     "metadata": {},
     "output_type": "display_data"
    },
    {
     "data": {
      "application/vnd.jupyter.widget-view+json": {
       "model_id": "a8b503378b054a4aa81479d94c45ba07",
       "version_major": 2,
       "version_minor": 0
      },
      "text/plain": [
       "iterating through agent runs:   0%|          | 0/6250 [00:00<?, ?it/s]"
      ]
     },
     "metadata": {},
     "output_type": "display_data"
    },
    {
     "data": {
      "application/vnd.jupyter.widget-view+json": {
       "model_id": "2ed1cb4fc8b440c89d5b5f2a924846c2",
       "version_major": 2,
       "version_minor": 0
      },
      "text/plain": [
       "iterating through agent runs:   0%|          | 0/6250 [00:00<?, ?it/s]"
      ]
     },
     "metadata": {},
     "output_type": "display_data"
    },
    {
     "data": {
      "application/vnd.jupyter.widget-view+json": {
       "model_id": "0169404a0048448fb7fe7ad6ac18ec30",
       "version_major": 2,
       "version_minor": 0
      },
      "text/plain": [
       "iterating through agent runs:   0%|          | 0/6250 [00:00<?, ?it/s]"
      ]
     },
     "metadata": {},
     "output_type": "display_data"
    },
    {
     "data": {
      "application/vnd.jupyter.widget-view+json": {
       "model_id": "74a59c0e16274b59a88b7dd5ddfa73ae",
       "version_major": 2,
       "version_minor": 0
      },
      "text/plain": [
       "iterating through agent runs:   0%|          | 0/6250 [00:00<?, ?it/s]"
      ]
     },
     "metadata": {},
     "output_type": "display_data"
    },
    {
     "ename": "KeyboardInterrupt",
     "evalue": "",
     "output_type": "error",
     "traceback": [
      "\u001b[1;31m---------------------------------------------------------------------------\u001b[0m",
      "\u001b[1;31mKeyboardInterrupt\u001b[0m                         Traceback (most recent call last)",
      "Cell \u001b[1;32mIn[12], line 1\u001b[0m\n\u001b[1;32m----> 1\u001b[0m get_agents(\u001b[38;5;124m'\u001b[39m\u001b[38;5;124mtrue_200\u001b[39m\u001b[38;5;124m'\u001b[39m, \u001b[38;5;241m40\u001b[39m, \u001b[38;5;28;01mNone\u001b[39;00m, \u001b[38;5;241m89\u001b[39m)\n",
      "File \u001b[1;32m~\\anaconda3\\envs\\my_coop\\Lib\\site-packages\\IPython\\core\\displayhook.py:268\u001b[0m, in \u001b[0;36mDisplayHook.__call__\u001b[1;34m(self, result)\u001b[0m\n\u001b[0;32m    266\u001b[0m \u001b[38;5;28mself\u001b[39m\u001b[38;5;241m.\u001b[39mstart_displayhook()\n\u001b[0;32m    267\u001b[0m \u001b[38;5;28mself\u001b[39m\u001b[38;5;241m.\u001b[39mwrite_output_prompt()\n\u001b[1;32m--> 268\u001b[0m format_dict, md_dict \u001b[38;5;241m=\u001b[39m \u001b[38;5;28mself\u001b[39m\u001b[38;5;241m.\u001b[39mcompute_format_data(result)\n\u001b[0;32m    269\u001b[0m \u001b[38;5;28mself\u001b[39m\u001b[38;5;241m.\u001b[39mupdate_user_ns(result)\n\u001b[0;32m    270\u001b[0m \u001b[38;5;28mself\u001b[39m\u001b[38;5;241m.\u001b[39mfill_exec_result(result)\n",
      "File \u001b[1;32m~\\anaconda3\\envs\\my_coop\\Lib\\site-packages\\IPython\\core\\displayhook.py:157\u001b[0m, in \u001b[0;36mDisplayHook.compute_format_data\u001b[1;34m(self, result)\u001b[0m\n\u001b[0;32m    127\u001b[0m \u001b[38;5;28;01mdef\u001b[39;00m \u001b[38;5;21mcompute_format_data\u001b[39m(\u001b[38;5;28mself\u001b[39m, result):\n\u001b[0;32m    128\u001b[0m \u001b[38;5;250m    \u001b[39m\u001b[38;5;124;03m\"\"\"Compute format data of the object to be displayed.\u001b[39;00m\n\u001b[0;32m    129\u001b[0m \n\u001b[0;32m    130\u001b[0m \u001b[38;5;124;03m    The format data is a generalization of the :func:`repr` of an object.\u001b[39;00m\n\u001b[1;32m   (...)\u001b[0m\n\u001b[0;32m    155\u001b[0m \n\u001b[0;32m    156\u001b[0m \u001b[38;5;124;03m    \"\"\"\u001b[39;00m\n\u001b[1;32m--> 157\u001b[0m     \u001b[38;5;28;01mreturn\u001b[39;00m \u001b[38;5;28mself\u001b[39m\u001b[38;5;241m.\u001b[39mshell\u001b[38;5;241m.\u001b[39mdisplay_formatter\u001b[38;5;241m.\u001b[39mformat(result)\n",
      "File \u001b[1;32m~\\anaconda3\\envs\\my_coop\\Lib\\site-packages\\IPython\\core\\formatters.py:182\u001b[0m, in \u001b[0;36mDisplayFormatter.format\u001b[1;34m(self, obj, include, exclude)\u001b[0m\n\u001b[0;32m    180\u001b[0m md \u001b[38;5;241m=\u001b[39m \u001b[38;5;28;01mNone\u001b[39;00m\n\u001b[0;32m    181\u001b[0m \u001b[38;5;28;01mtry\u001b[39;00m:\n\u001b[1;32m--> 182\u001b[0m     data \u001b[38;5;241m=\u001b[39m formatter(obj)\n\u001b[0;32m    183\u001b[0m \u001b[38;5;28;01mexcept\u001b[39;00m:\n\u001b[0;32m    184\u001b[0m     \u001b[38;5;66;03m# FIXME: log the exception\u001b[39;00m\n\u001b[0;32m    185\u001b[0m     \u001b[38;5;28;01mraise\u001b[39;00m\n",
      "File \u001b[1;32m~\\anaconda3\\envs\\my_coop\\Lib\\site-packages\\decorator.py:232\u001b[0m, in \u001b[0;36mdecorate.<locals>.fun\u001b[1;34m(*args, **kw)\u001b[0m\n\u001b[0;32m    230\u001b[0m \u001b[38;5;28;01mif\u001b[39;00m \u001b[38;5;129;01mnot\u001b[39;00m kwsyntax:\n\u001b[0;32m    231\u001b[0m     args, kw \u001b[38;5;241m=\u001b[39m fix(args, kw, sig)\n\u001b[1;32m--> 232\u001b[0m \u001b[38;5;28;01mreturn\u001b[39;00m caller(func, \u001b[38;5;241m*\u001b[39m(extras \u001b[38;5;241m+\u001b[39m args), \u001b[38;5;241m*\u001b[39m\u001b[38;5;241m*\u001b[39mkw)\n",
      "File \u001b[1;32m~\\anaconda3\\envs\\my_coop\\Lib\\site-packages\\IPython\\core\\formatters.py:226\u001b[0m, in \u001b[0;36mcatch_format_error\u001b[1;34m(method, self, *args, **kwargs)\u001b[0m\n\u001b[0;32m    224\u001b[0m \u001b[38;5;250m\u001b[39m\u001b[38;5;124;03m\"\"\"show traceback on failed format call\"\"\"\u001b[39;00m\n\u001b[0;32m    225\u001b[0m \u001b[38;5;28;01mtry\u001b[39;00m:\n\u001b[1;32m--> 226\u001b[0m     r \u001b[38;5;241m=\u001b[39m method(\u001b[38;5;28mself\u001b[39m, \u001b[38;5;241m*\u001b[39margs, \u001b[38;5;241m*\u001b[39m\u001b[38;5;241m*\u001b[39mkwargs)\n\u001b[0;32m    227\u001b[0m \u001b[38;5;28;01mexcept\u001b[39;00m \u001b[38;5;167;01mNotImplementedError\u001b[39;00m:\n\u001b[0;32m    228\u001b[0m     \u001b[38;5;66;03m# don't warn on NotImplementedErrors\u001b[39;00m\n\u001b[0;32m    229\u001b[0m     \u001b[38;5;28;01mreturn\u001b[39;00m \u001b[38;5;28mself\u001b[39m\u001b[38;5;241m.\u001b[39m_check_return(\u001b[38;5;28;01mNone\u001b[39;00m, args[\u001b[38;5;241m0\u001b[39m])\n",
      "File \u001b[1;32m~\\anaconda3\\envs\\my_coop\\Lib\\site-packages\\IPython\\core\\formatters.py:711\u001b[0m, in \u001b[0;36mPlainTextFormatter.__call__\u001b[1;34m(self, obj)\u001b[0m\n\u001b[0;32m    704\u001b[0m stream \u001b[38;5;241m=\u001b[39m StringIO()\n\u001b[0;32m    705\u001b[0m printer \u001b[38;5;241m=\u001b[39m pretty\u001b[38;5;241m.\u001b[39mRepresentationPrinter(stream, \u001b[38;5;28mself\u001b[39m\u001b[38;5;241m.\u001b[39mverbose,\n\u001b[0;32m    706\u001b[0m     \u001b[38;5;28mself\u001b[39m\u001b[38;5;241m.\u001b[39mmax_width, \u001b[38;5;28mself\u001b[39m\u001b[38;5;241m.\u001b[39mnewline,\n\u001b[0;32m    707\u001b[0m     max_seq_length\u001b[38;5;241m=\u001b[39m\u001b[38;5;28mself\u001b[39m\u001b[38;5;241m.\u001b[39mmax_seq_length,\n\u001b[0;32m    708\u001b[0m     singleton_pprinters\u001b[38;5;241m=\u001b[39m\u001b[38;5;28mself\u001b[39m\u001b[38;5;241m.\u001b[39msingleton_printers,\n\u001b[0;32m    709\u001b[0m     type_pprinters\u001b[38;5;241m=\u001b[39m\u001b[38;5;28mself\u001b[39m\u001b[38;5;241m.\u001b[39mtype_printers,\n\u001b[0;32m    710\u001b[0m     deferred_pprinters\u001b[38;5;241m=\u001b[39m\u001b[38;5;28mself\u001b[39m\u001b[38;5;241m.\u001b[39mdeferred_printers)\n\u001b[1;32m--> 711\u001b[0m printer\u001b[38;5;241m.\u001b[39mpretty(obj)\n\u001b[0;32m    712\u001b[0m printer\u001b[38;5;241m.\u001b[39mflush()\n\u001b[0;32m    713\u001b[0m \u001b[38;5;28;01mreturn\u001b[39;00m stream\u001b[38;5;241m.\u001b[39mgetvalue()\n",
      "File \u001b[1;32m~\\anaconda3\\envs\\my_coop\\Lib\\site-packages\\IPython\\lib\\pretty.py:394\u001b[0m, in \u001b[0;36mRepresentationPrinter.pretty\u001b[1;34m(self, obj)\u001b[0m\n\u001b[0;32m    391\u001b[0m \u001b[38;5;28;01mfor\u001b[39;00m \u001b[38;5;28mcls\u001b[39m \u001b[38;5;129;01min\u001b[39;00m _get_mro(obj_class):\n\u001b[0;32m    392\u001b[0m     \u001b[38;5;28;01mif\u001b[39;00m \u001b[38;5;28mcls\u001b[39m \u001b[38;5;129;01min\u001b[39;00m \u001b[38;5;28mself\u001b[39m\u001b[38;5;241m.\u001b[39mtype_pprinters:\n\u001b[0;32m    393\u001b[0m         \u001b[38;5;66;03m# printer registered in self.type_pprinters\u001b[39;00m\n\u001b[1;32m--> 394\u001b[0m         \u001b[38;5;28;01mreturn\u001b[39;00m \u001b[38;5;28mself\u001b[39m\u001b[38;5;241m.\u001b[39mtype_pprinters[\u001b[38;5;28mcls\u001b[39m](obj, \u001b[38;5;28mself\u001b[39m, cycle)\n\u001b[0;32m    395\u001b[0m     \u001b[38;5;28;01melse\u001b[39;00m:\n\u001b[0;32m    396\u001b[0m         \u001b[38;5;66;03m# deferred printer\u001b[39;00m\n\u001b[0;32m    397\u001b[0m         printer \u001b[38;5;241m=\u001b[39m \u001b[38;5;28mself\u001b[39m\u001b[38;5;241m.\u001b[39m_in_deferred_types(\u001b[38;5;28mcls\u001b[39m)\n",
      "File \u001b[1;32m~\\anaconda3\\envs\\my_coop\\Lib\\site-packages\\IPython\\lib\\pretty.py:693\u001b[0m, in \u001b[0;36m_dict_pprinter_factory.<locals>.inner\u001b[1;34m(obj, p, cycle)\u001b[0m\n\u001b[0;32m    691\u001b[0m     p\u001b[38;5;241m.\u001b[39mpretty(key)\n\u001b[0;32m    692\u001b[0m     p\u001b[38;5;241m.\u001b[39mtext(\u001b[38;5;124m'\u001b[39m\u001b[38;5;124m: \u001b[39m\u001b[38;5;124m'\u001b[39m)\n\u001b[1;32m--> 693\u001b[0m     p\u001b[38;5;241m.\u001b[39mpretty(obj[key])\n\u001b[0;32m    694\u001b[0m p\u001b[38;5;241m.\u001b[39mend_group(step, end)\n",
      "File \u001b[1;32m~\\anaconda3\\envs\\my_coop\\Lib\\site-packages\\IPython\\lib\\pretty.py:394\u001b[0m, in \u001b[0;36mRepresentationPrinter.pretty\u001b[1;34m(self, obj)\u001b[0m\n\u001b[0;32m    391\u001b[0m \u001b[38;5;28;01mfor\u001b[39;00m \u001b[38;5;28mcls\u001b[39m \u001b[38;5;129;01min\u001b[39;00m _get_mro(obj_class):\n\u001b[0;32m    392\u001b[0m     \u001b[38;5;28;01mif\u001b[39;00m \u001b[38;5;28mcls\u001b[39m \u001b[38;5;129;01min\u001b[39;00m \u001b[38;5;28mself\u001b[39m\u001b[38;5;241m.\u001b[39mtype_pprinters:\n\u001b[0;32m    393\u001b[0m         \u001b[38;5;66;03m# printer registered in self.type_pprinters\u001b[39;00m\n\u001b[1;32m--> 394\u001b[0m         \u001b[38;5;28;01mreturn\u001b[39;00m \u001b[38;5;28mself\u001b[39m\u001b[38;5;241m.\u001b[39mtype_pprinters[\u001b[38;5;28mcls\u001b[39m](obj, \u001b[38;5;28mself\u001b[39m, cycle)\n\u001b[0;32m    395\u001b[0m     \u001b[38;5;28;01melse\u001b[39;00m:\n\u001b[0;32m    396\u001b[0m         \u001b[38;5;66;03m# deferred printer\u001b[39;00m\n\u001b[0;32m    397\u001b[0m         printer \u001b[38;5;241m=\u001b[39m \u001b[38;5;28mself\u001b[39m\u001b[38;5;241m.\u001b[39m_in_deferred_types(\u001b[38;5;28mcls\u001b[39m)\n",
      "File \u001b[1;32m~\\anaconda3\\envs\\my_coop\\Lib\\site-packages\\IPython\\lib\\pretty.py:693\u001b[0m, in \u001b[0;36m_dict_pprinter_factory.<locals>.inner\u001b[1;34m(obj, p, cycle)\u001b[0m\n\u001b[0;32m    691\u001b[0m     p\u001b[38;5;241m.\u001b[39mpretty(key)\n\u001b[0;32m    692\u001b[0m     p\u001b[38;5;241m.\u001b[39mtext(\u001b[38;5;124m'\u001b[39m\u001b[38;5;124m: \u001b[39m\u001b[38;5;124m'\u001b[39m)\n\u001b[1;32m--> 693\u001b[0m     p\u001b[38;5;241m.\u001b[39mpretty(obj[key])\n\u001b[0;32m    694\u001b[0m p\u001b[38;5;241m.\u001b[39mend_group(step, end)\n",
      "File \u001b[1;32m~\\anaconda3\\envs\\my_coop\\Lib\\site-packages\\IPython\\lib\\pretty.py:394\u001b[0m, in \u001b[0;36mRepresentationPrinter.pretty\u001b[1;34m(self, obj)\u001b[0m\n\u001b[0;32m    391\u001b[0m \u001b[38;5;28;01mfor\u001b[39;00m \u001b[38;5;28mcls\u001b[39m \u001b[38;5;129;01min\u001b[39;00m _get_mro(obj_class):\n\u001b[0;32m    392\u001b[0m     \u001b[38;5;28;01mif\u001b[39;00m \u001b[38;5;28mcls\u001b[39m \u001b[38;5;129;01min\u001b[39;00m \u001b[38;5;28mself\u001b[39m\u001b[38;5;241m.\u001b[39mtype_pprinters:\n\u001b[0;32m    393\u001b[0m         \u001b[38;5;66;03m# printer registered in self.type_pprinters\u001b[39;00m\n\u001b[1;32m--> 394\u001b[0m         \u001b[38;5;28;01mreturn\u001b[39;00m \u001b[38;5;28mself\u001b[39m\u001b[38;5;241m.\u001b[39mtype_pprinters[\u001b[38;5;28mcls\u001b[39m](obj, \u001b[38;5;28mself\u001b[39m, cycle)\n\u001b[0;32m    395\u001b[0m     \u001b[38;5;28;01melse\u001b[39;00m:\n\u001b[0;32m    396\u001b[0m         \u001b[38;5;66;03m# deferred printer\u001b[39;00m\n\u001b[0;32m    397\u001b[0m         printer \u001b[38;5;241m=\u001b[39m \u001b[38;5;28mself\u001b[39m\u001b[38;5;241m.\u001b[39m_in_deferred_types(\u001b[38;5;28mcls\u001b[39m)\n",
      "File \u001b[1;32m~\\anaconda3\\envs\\my_coop\\Lib\\site-packages\\IPython\\lib\\pretty.py:641\u001b[0m, in \u001b[0;36m_seq_pprinter_factory.<locals>.inner\u001b[1;34m(obj, p, cycle)\u001b[0m\n\u001b[0;32m    639\u001b[0m         p\u001b[38;5;241m.\u001b[39mtext(\u001b[38;5;124m'\u001b[39m\u001b[38;5;124m,\u001b[39m\u001b[38;5;124m'\u001b[39m)\n\u001b[0;32m    640\u001b[0m         p\u001b[38;5;241m.\u001b[39mbreakable()\n\u001b[1;32m--> 641\u001b[0m     p\u001b[38;5;241m.\u001b[39mpretty(x)\n\u001b[0;32m    642\u001b[0m \u001b[38;5;28;01mif\u001b[39;00m \u001b[38;5;28mlen\u001b[39m(obj) \u001b[38;5;241m==\u001b[39m \u001b[38;5;241m1\u001b[39m \u001b[38;5;129;01mand\u001b[39;00m \u001b[38;5;28misinstance\u001b[39m(obj, \u001b[38;5;28mtuple\u001b[39m):\n\u001b[0;32m    643\u001b[0m     \u001b[38;5;66;03m# Special case for 1-item tuples.\u001b[39;00m\n\u001b[0;32m    644\u001b[0m     p\u001b[38;5;241m.\u001b[39mtext(\u001b[38;5;124m'\u001b[39m\u001b[38;5;124m,\u001b[39m\u001b[38;5;124m'\u001b[39m)\n",
      "File \u001b[1;32m~\\anaconda3\\envs\\my_coop\\Lib\\site-packages\\IPython\\lib\\pretty.py:411\u001b[0m, in \u001b[0;36mRepresentationPrinter.pretty\u001b[1;34m(self, obj)\u001b[0m\n\u001b[0;32m    408\u001b[0m                         \u001b[38;5;28;01mreturn\u001b[39;00m meth(obj, \u001b[38;5;28mself\u001b[39m, cycle)\n\u001b[0;32m    409\u001b[0m                 \u001b[38;5;28;01mif\u001b[39;00m \u001b[38;5;28mcls\u001b[39m \u001b[38;5;129;01mis\u001b[39;00m \u001b[38;5;129;01mnot\u001b[39;00m \u001b[38;5;28mobject\u001b[39m \\\n\u001b[0;32m    410\u001b[0m                         \u001b[38;5;129;01mand\u001b[39;00m \u001b[38;5;28mcallable\u001b[39m(\u001b[38;5;28mcls\u001b[39m\u001b[38;5;241m.\u001b[39m\u001b[38;5;18m__dict__\u001b[39m\u001b[38;5;241m.\u001b[39mget(\u001b[38;5;124m'\u001b[39m\u001b[38;5;124m__repr__\u001b[39m\u001b[38;5;124m'\u001b[39m)):\n\u001b[1;32m--> 411\u001b[0m                     \u001b[38;5;28;01mreturn\u001b[39;00m _repr_pprint(obj, \u001b[38;5;28mself\u001b[39m, cycle)\n\u001b[0;32m    413\u001b[0m     \u001b[38;5;28;01mreturn\u001b[39;00m _default_pprint(obj, \u001b[38;5;28mself\u001b[39m, cycle)\n\u001b[0;32m    414\u001b[0m \u001b[38;5;28;01mfinally\u001b[39;00m:\n",
      "File \u001b[1;32m~\\anaconda3\\envs\\my_coop\\Lib\\site-packages\\IPython\\lib\\pretty.py:779\u001b[0m, in \u001b[0;36m_repr_pprint\u001b[1;34m(obj, p, cycle)\u001b[0m\n\u001b[0;32m    777\u001b[0m \u001b[38;5;250m\u001b[39m\u001b[38;5;124;03m\"\"\"A pprint that just redirects to the normal repr function.\"\"\"\u001b[39;00m\n\u001b[0;32m    778\u001b[0m \u001b[38;5;66;03m# Find newlines and replace them with p.break_()\u001b[39;00m\n\u001b[1;32m--> 779\u001b[0m output \u001b[38;5;241m=\u001b[39m \u001b[38;5;28mrepr\u001b[39m(obj)\n\u001b[0;32m    780\u001b[0m lines \u001b[38;5;241m=\u001b[39m output\u001b[38;5;241m.\u001b[39msplitlines()\n\u001b[0;32m    781\u001b[0m \u001b[38;5;28;01mwith\u001b[39;00m p\u001b[38;5;241m.\u001b[39mgroup():\n",
      "File \u001b[1;32m~\\anaconda3\\envs\\my_coop\\Lib\\site-packages\\pandas\\core\\frame.py:1214\u001b[0m, in \u001b[0;36mDataFrame.__repr__\u001b[1;34m(self)\u001b[0m\n\u001b[0;32m   1211\u001b[0m     \u001b[38;5;28;01mreturn\u001b[39;00m buf\u001b[38;5;241m.\u001b[39mgetvalue()\n\u001b[0;32m   1213\u001b[0m repr_params \u001b[38;5;241m=\u001b[39m fmt\u001b[38;5;241m.\u001b[39mget_dataframe_repr_params()\n\u001b[1;32m-> 1214\u001b[0m \u001b[38;5;28;01mreturn\u001b[39;00m \u001b[38;5;28mself\u001b[39m\u001b[38;5;241m.\u001b[39mto_string(\u001b[38;5;241m*\u001b[39m\u001b[38;5;241m*\u001b[39mrepr_params)\n",
      "File \u001b[1;32m~\\anaconda3\\envs\\my_coop\\Lib\\site-packages\\pandas\\util\\_decorators.py:333\u001b[0m, in \u001b[0;36mdeprecate_nonkeyword_arguments.<locals>.decorate.<locals>.wrapper\u001b[1;34m(*args, **kwargs)\u001b[0m\n\u001b[0;32m    327\u001b[0m \u001b[38;5;28;01mif\u001b[39;00m \u001b[38;5;28mlen\u001b[39m(args) \u001b[38;5;241m>\u001b[39m num_allow_args:\n\u001b[0;32m    328\u001b[0m     warnings\u001b[38;5;241m.\u001b[39mwarn(\n\u001b[0;32m    329\u001b[0m         msg\u001b[38;5;241m.\u001b[39mformat(arguments\u001b[38;5;241m=\u001b[39m_format_argument_list(allow_args)),\n\u001b[0;32m    330\u001b[0m         \u001b[38;5;167;01mFutureWarning\u001b[39;00m,\n\u001b[0;32m    331\u001b[0m         stacklevel\u001b[38;5;241m=\u001b[39mfind_stack_level(),\n\u001b[0;32m    332\u001b[0m     )\n\u001b[1;32m--> 333\u001b[0m \u001b[38;5;28;01mreturn\u001b[39;00m func(\u001b[38;5;241m*\u001b[39margs, \u001b[38;5;241m*\u001b[39m\u001b[38;5;241m*\u001b[39mkwargs)\n",
      "File \u001b[1;32m~\\anaconda3\\envs\\my_coop\\Lib\\site-packages\\pandas\\core\\frame.py:1394\u001b[0m, in \u001b[0;36mDataFrame.to_string\u001b[1;34m(self, buf, columns, col_space, header, index, na_rep, formatters, float_format, sparsify, index_names, justify, max_rows, max_cols, show_dimensions, decimal, line_width, min_rows, max_colwidth, encoding)\u001b[0m\n\u001b[0;32m   1375\u001b[0m \u001b[38;5;28;01mwith\u001b[39;00m option_context(\u001b[38;5;124m\"\u001b[39m\u001b[38;5;124mdisplay.max_colwidth\u001b[39m\u001b[38;5;124m\"\u001b[39m, max_colwidth):\n\u001b[0;32m   1376\u001b[0m     formatter \u001b[38;5;241m=\u001b[39m fmt\u001b[38;5;241m.\u001b[39mDataFrameFormatter(\n\u001b[0;32m   1377\u001b[0m         \u001b[38;5;28mself\u001b[39m,\n\u001b[0;32m   1378\u001b[0m         columns\u001b[38;5;241m=\u001b[39mcolumns,\n\u001b[1;32m   (...)\u001b[0m\n\u001b[0;32m   1392\u001b[0m         decimal\u001b[38;5;241m=\u001b[39mdecimal,\n\u001b[0;32m   1393\u001b[0m     )\n\u001b[1;32m-> 1394\u001b[0m     \u001b[38;5;28;01mreturn\u001b[39;00m fmt\u001b[38;5;241m.\u001b[39mDataFrameRenderer(formatter)\u001b[38;5;241m.\u001b[39mto_string(\n\u001b[0;32m   1395\u001b[0m         buf\u001b[38;5;241m=\u001b[39mbuf,\n\u001b[0;32m   1396\u001b[0m         encoding\u001b[38;5;241m=\u001b[39mencoding,\n\u001b[0;32m   1397\u001b[0m         line_width\u001b[38;5;241m=\u001b[39mline_width,\n\u001b[0;32m   1398\u001b[0m     )\n",
      "File \u001b[1;32m~\\anaconda3\\envs\\my_coop\\Lib\\site-packages\\pandas\\io\\formats\\format.py:962\u001b[0m, in \u001b[0;36mDataFrameRenderer.to_string\u001b[1;34m(self, buf, encoding, line_width)\u001b[0m\n\u001b[0;32m    959\u001b[0m \u001b[38;5;28;01mfrom\u001b[39;00m \u001b[38;5;21;01mpandas\u001b[39;00m\u001b[38;5;21;01m.\u001b[39;00m\u001b[38;5;21;01mio\u001b[39;00m\u001b[38;5;21;01m.\u001b[39;00m\u001b[38;5;21;01mformats\u001b[39;00m\u001b[38;5;21;01m.\u001b[39;00m\u001b[38;5;21;01mstring\u001b[39;00m \u001b[38;5;28;01mimport\u001b[39;00m StringFormatter\n\u001b[0;32m    961\u001b[0m string_formatter \u001b[38;5;241m=\u001b[39m StringFormatter(\u001b[38;5;28mself\u001b[39m\u001b[38;5;241m.\u001b[39mfmt, line_width\u001b[38;5;241m=\u001b[39mline_width)\n\u001b[1;32m--> 962\u001b[0m string \u001b[38;5;241m=\u001b[39m string_formatter\u001b[38;5;241m.\u001b[39mto_string()\n\u001b[0;32m    963\u001b[0m \u001b[38;5;28;01mreturn\u001b[39;00m save_to_buffer(string, buf\u001b[38;5;241m=\u001b[39mbuf, encoding\u001b[38;5;241m=\u001b[39mencoding)\n",
      "File \u001b[1;32m~\\anaconda3\\envs\\my_coop\\Lib\\site-packages\\pandas\\io\\formats\\string.py:29\u001b[0m, in \u001b[0;36mStringFormatter.to_string\u001b[1;34m(self)\u001b[0m\n\u001b[0;32m     28\u001b[0m \u001b[38;5;28;01mdef\u001b[39;00m \u001b[38;5;21mto_string\u001b[39m(\u001b[38;5;28mself\u001b[39m) \u001b[38;5;241m-\u001b[39m\u001b[38;5;241m>\u001b[39m \u001b[38;5;28mstr\u001b[39m:\n\u001b[1;32m---> 29\u001b[0m     text \u001b[38;5;241m=\u001b[39m \u001b[38;5;28mself\u001b[39m\u001b[38;5;241m.\u001b[39m_get_string_representation()\n\u001b[0;32m     30\u001b[0m     \u001b[38;5;28;01mif\u001b[39;00m \u001b[38;5;28mself\u001b[39m\u001b[38;5;241m.\u001b[39mfmt\u001b[38;5;241m.\u001b[39mshould_show_dimensions:\n\u001b[0;32m     31\u001b[0m         text \u001b[38;5;241m=\u001b[39m \u001b[38;5;124mf\u001b[39m\u001b[38;5;124m\"\u001b[39m\u001b[38;5;132;01m{\u001b[39;00mtext\u001b[38;5;132;01m}\u001b[39;00m\u001b[38;5;132;01m{\u001b[39;00m\u001b[38;5;28mself\u001b[39m\u001b[38;5;241m.\u001b[39mfmt\u001b[38;5;241m.\u001b[39mdimensions_info\u001b[38;5;132;01m}\u001b[39;00m\u001b[38;5;124m\"\u001b[39m\n",
      "File \u001b[1;32m~\\anaconda3\\envs\\my_coop\\Lib\\site-packages\\pandas\\io\\formats\\string.py:44\u001b[0m, in \u001b[0;36mStringFormatter._get_string_representation\u001b[1;34m(self)\u001b[0m\n\u001b[0;32m     41\u001b[0m \u001b[38;5;28;01mif\u001b[39;00m \u001b[38;5;28mself\u001b[39m\u001b[38;5;241m.\u001b[39mfmt\u001b[38;5;241m.\u001b[39mframe\u001b[38;5;241m.\u001b[39mempty:\n\u001b[0;32m     42\u001b[0m     \u001b[38;5;28;01mreturn\u001b[39;00m \u001b[38;5;28mself\u001b[39m\u001b[38;5;241m.\u001b[39m_empty_info_line\n\u001b[1;32m---> 44\u001b[0m strcols \u001b[38;5;241m=\u001b[39m \u001b[38;5;28mself\u001b[39m\u001b[38;5;241m.\u001b[39m_get_strcols()\n\u001b[0;32m     46\u001b[0m \u001b[38;5;28;01mif\u001b[39;00m \u001b[38;5;28mself\u001b[39m\u001b[38;5;241m.\u001b[39mline_width \u001b[38;5;129;01mis\u001b[39;00m \u001b[38;5;28;01mNone\u001b[39;00m:\n\u001b[0;32m     47\u001b[0m     \u001b[38;5;66;03m# no need to wrap around just print the whole frame\u001b[39;00m\n\u001b[0;32m     48\u001b[0m     \u001b[38;5;28;01mreturn\u001b[39;00m \u001b[38;5;28mself\u001b[39m\u001b[38;5;241m.\u001b[39madj\u001b[38;5;241m.\u001b[39madjoin(\u001b[38;5;241m1\u001b[39m, \u001b[38;5;241m*\u001b[39mstrcols)\n",
      "File \u001b[1;32m~\\anaconda3\\envs\\my_coop\\Lib\\site-packages\\pandas\\io\\formats\\string.py:35\u001b[0m, in \u001b[0;36mStringFormatter._get_strcols\u001b[1;34m(self)\u001b[0m\n\u001b[0;32m     34\u001b[0m \u001b[38;5;28;01mdef\u001b[39;00m \u001b[38;5;21m_get_strcols\u001b[39m(\u001b[38;5;28mself\u001b[39m) \u001b[38;5;241m-\u001b[39m\u001b[38;5;241m>\u001b[39m \u001b[38;5;28mlist\u001b[39m[\u001b[38;5;28mlist\u001b[39m[\u001b[38;5;28mstr\u001b[39m]]:\n\u001b[1;32m---> 35\u001b[0m     strcols \u001b[38;5;241m=\u001b[39m \u001b[38;5;28mself\u001b[39m\u001b[38;5;241m.\u001b[39mfmt\u001b[38;5;241m.\u001b[39mget_strcols()\n\u001b[0;32m     36\u001b[0m     \u001b[38;5;28;01mif\u001b[39;00m \u001b[38;5;28mself\u001b[39m\u001b[38;5;241m.\u001b[39mfmt\u001b[38;5;241m.\u001b[39mis_truncated:\n\u001b[0;32m     37\u001b[0m         strcols \u001b[38;5;241m=\u001b[39m \u001b[38;5;28mself\u001b[39m\u001b[38;5;241m.\u001b[39m_insert_dot_separators(strcols)\n",
      "File \u001b[1;32m~\\anaconda3\\envs\\my_coop\\Lib\\site-packages\\pandas\\io\\formats\\format.py:476\u001b[0m, in \u001b[0;36mDataFrameFormatter.get_strcols\u001b[1;34m(self)\u001b[0m\n\u001b[0;32m    472\u001b[0m \u001b[38;5;28;01mdef\u001b[39;00m \u001b[38;5;21mget_strcols\u001b[39m(\u001b[38;5;28mself\u001b[39m) \u001b[38;5;241m-\u001b[39m\u001b[38;5;241m>\u001b[39m \u001b[38;5;28mlist\u001b[39m[\u001b[38;5;28mlist\u001b[39m[\u001b[38;5;28mstr\u001b[39m]]:\n\u001b[0;32m    473\u001b[0m \u001b[38;5;250m    \u001b[39m\u001b[38;5;124;03m\"\"\"\u001b[39;00m\n\u001b[0;32m    474\u001b[0m \u001b[38;5;124;03m    Render a DataFrame to a list of columns (as lists of strings).\u001b[39;00m\n\u001b[0;32m    475\u001b[0m \u001b[38;5;124;03m    \"\"\"\u001b[39;00m\n\u001b[1;32m--> 476\u001b[0m     strcols \u001b[38;5;241m=\u001b[39m \u001b[38;5;28mself\u001b[39m\u001b[38;5;241m.\u001b[39m_get_strcols_without_index()\n\u001b[0;32m    478\u001b[0m     \u001b[38;5;28;01mif\u001b[39;00m \u001b[38;5;28mself\u001b[39m\u001b[38;5;241m.\u001b[39mindex:\n\u001b[0;32m    479\u001b[0m         str_index \u001b[38;5;241m=\u001b[39m \u001b[38;5;28mself\u001b[39m\u001b[38;5;241m.\u001b[39m_get_formatted_index(\u001b[38;5;28mself\u001b[39m\u001b[38;5;241m.\u001b[39mtr_frame)\n",
      "File \u001b[1;32m~\\anaconda3\\envs\\my_coop\\Lib\\site-packages\\pandas\\io\\formats\\format.py:740\u001b[0m, in \u001b[0;36mDataFrameFormatter._get_strcols_without_index\u001b[1;34m(self)\u001b[0m\n\u001b[0;32m    736\u001b[0m cheader \u001b[38;5;241m=\u001b[39m str_columns[i]\n\u001b[0;32m    737\u001b[0m header_colwidth \u001b[38;5;241m=\u001b[39m \u001b[38;5;28mmax\u001b[39m(\n\u001b[0;32m    738\u001b[0m     \u001b[38;5;28mint\u001b[39m(\u001b[38;5;28mself\u001b[39m\u001b[38;5;241m.\u001b[39mcol_space\u001b[38;5;241m.\u001b[39mget(c, \u001b[38;5;241m0\u001b[39m)), \u001b[38;5;241m*\u001b[39m(\u001b[38;5;28mself\u001b[39m\u001b[38;5;241m.\u001b[39madj\u001b[38;5;241m.\u001b[39mlen(x) \u001b[38;5;28;01mfor\u001b[39;00m x \u001b[38;5;129;01min\u001b[39;00m cheader)\n\u001b[0;32m    739\u001b[0m )\n\u001b[1;32m--> 740\u001b[0m fmt_values \u001b[38;5;241m=\u001b[39m \u001b[38;5;28mself\u001b[39m\u001b[38;5;241m.\u001b[39mformat_col(i)\n\u001b[0;32m    741\u001b[0m fmt_values \u001b[38;5;241m=\u001b[39m _make_fixed_width(\n\u001b[0;32m    742\u001b[0m     fmt_values, \u001b[38;5;28mself\u001b[39m\u001b[38;5;241m.\u001b[39mjustify, minimum\u001b[38;5;241m=\u001b[39mheader_colwidth, adj\u001b[38;5;241m=\u001b[39m\u001b[38;5;28mself\u001b[39m\u001b[38;5;241m.\u001b[39madj\n\u001b[0;32m    743\u001b[0m )\n\u001b[0;32m    745\u001b[0m max_len \u001b[38;5;241m=\u001b[39m \u001b[38;5;28mmax\u001b[39m(\u001b[38;5;241m*\u001b[39m(\u001b[38;5;28mself\u001b[39m\u001b[38;5;241m.\u001b[39madj\u001b[38;5;241m.\u001b[39mlen(x) \u001b[38;5;28;01mfor\u001b[39;00m x \u001b[38;5;129;01min\u001b[39;00m fmt_values), header_colwidth)\n",
      "File \u001b[1;32m~\\anaconda3\\envs\\my_coop\\Lib\\site-packages\\pandas\\io\\formats\\format.py:754\u001b[0m, in \u001b[0;36mDataFrameFormatter.format_col\u001b[1;34m(self, i)\u001b[0m\n\u001b[0;32m    752\u001b[0m frame \u001b[38;5;241m=\u001b[39m \u001b[38;5;28mself\u001b[39m\u001b[38;5;241m.\u001b[39mtr_frame\n\u001b[0;32m    753\u001b[0m formatter \u001b[38;5;241m=\u001b[39m \u001b[38;5;28mself\u001b[39m\u001b[38;5;241m.\u001b[39m_get_formatter(i)\n\u001b[1;32m--> 754\u001b[0m \u001b[38;5;28;01mreturn\u001b[39;00m format_array(\n\u001b[0;32m    755\u001b[0m     frame\u001b[38;5;241m.\u001b[39miloc[:, i]\u001b[38;5;241m.\u001b[39m_values,\n\u001b[0;32m    756\u001b[0m     formatter,\n\u001b[0;32m    757\u001b[0m     float_format\u001b[38;5;241m=\u001b[39m\u001b[38;5;28mself\u001b[39m\u001b[38;5;241m.\u001b[39mfloat_format,\n\u001b[0;32m    758\u001b[0m     na_rep\u001b[38;5;241m=\u001b[39m\u001b[38;5;28mself\u001b[39m\u001b[38;5;241m.\u001b[39mna_rep,\n\u001b[0;32m    759\u001b[0m     space\u001b[38;5;241m=\u001b[39m\u001b[38;5;28mself\u001b[39m\u001b[38;5;241m.\u001b[39mcol_space\u001b[38;5;241m.\u001b[39mget(frame\u001b[38;5;241m.\u001b[39mcolumns[i]),\n\u001b[0;32m    760\u001b[0m     decimal\u001b[38;5;241m=\u001b[39m\u001b[38;5;28mself\u001b[39m\u001b[38;5;241m.\u001b[39mdecimal,\n\u001b[0;32m    761\u001b[0m     leading_space\u001b[38;5;241m=\u001b[39m\u001b[38;5;28mself\u001b[39m\u001b[38;5;241m.\u001b[39mindex,\n\u001b[0;32m    762\u001b[0m )\n",
      "File \u001b[1;32m~\\anaconda3\\envs\\my_coop\\Lib\\site-packages\\pandas\\io\\formats\\format.py:1161\u001b[0m, in \u001b[0;36mformat_array\u001b[1;34m(values, formatter, float_format, na_rep, digits, space, justify, decimal, leading_space, quoting, fallback_formatter)\u001b[0m\n\u001b[0;32m   1145\u001b[0m     digits \u001b[38;5;241m=\u001b[39m get_option(\u001b[38;5;124m\"\u001b[39m\u001b[38;5;124mdisplay.precision\u001b[39m\u001b[38;5;124m\"\u001b[39m)\n\u001b[0;32m   1147\u001b[0m fmt_obj \u001b[38;5;241m=\u001b[39m fmt_klass(\n\u001b[0;32m   1148\u001b[0m     values,\n\u001b[0;32m   1149\u001b[0m     digits\u001b[38;5;241m=\u001b[39mdigits,\n\u001b[1;32m   (...)\u001b[0m\n\u001b[0;32m   1158\u001b[0m     fallback_formatter\u001b[38;5;241m=\u001b[39mfallback_formatter,\n\u001b[0;32m   1159\u001b[0m )\n\u001b[1;32m-> 1161\u001b[0m \u001b[38;5;28;01mreturn\u001b[39;00m fmt_obj\u001b[38;5;241m.\u001b[39mget_result()\n",
      "File \u001b[1;32m~\\anaconda3\\envs\\my_coop\\Lib\\site-packages\\pandas\\io\\formats\\format.py:1194\u001b[0m, in \u001b[0;36m_GenericArrayFormatter.get_result\u001b[1;34m(self)\u001b[0m\n\u001b[0;32m   1193\u001b[0m \u001b[38;5;28;01mdef\u001b[39;00m \u001b[38;5;21mget_result\u001b[39m(\u001b[38;5;28mself\u001b[39m) \u001b[38;5;241m-\u001b[39m\u001b[38;5;241m>\u001b[39m \u001b[38;5;28mlist\u001b[39m[\u001b[38;5;28mstr\u001b[39m]:\n\u001b[1;32m-> 1194\u001b[0m     fmt_values \u001b[38;5;241m=\u001b[39m \u001b[38;5;28mself\u001b[39m\u001b[38;5;241m.\u001b[39m_format_strings()\n\u001b[0;32m   1195\u001b[0m     \u001b[38;5;28;01mreturn\u001b[39;00m _make_fixed_width(fmt_values, \u001b[38;5;28mself\u001b[39m\u001b[38;5;241m.\u001b[39mjustify)\n",
      "File \u001b[1;32m~\\anaconda3\\envs\\my_coop\\Lib\\site-packages\\pandas\\io\\formats\\format.py:1472\u001b[0m, in \u001b[0;36mFloatArrayFormatter._format_strings\u001b[1;34m(self)\u001b[0m\n\u001b[0;32m   1471\u001b[0m \u001b[38;5;28;01mdef\u001b[39;00m \u001b[38;5;21m_format_strings\u001b[39m(\u001b[38;5;28mself\u001b[39m) \u001b[38;5;241m-\u001b[39m\u001b[38;5;241m>\u001b[39m \u001b[38;5;28mlist\u001b[39m[\u001b[38;5;28mstr\u001b[39m]:\n\u001b[1;32m-> 1472\u001b[0m     \u001b[38;5;28;01mreturn\u001b[39;00m \u001b[38;5;28mlist\u001b[39m(\u001b[38;5;28mself\u001b[39m\u001b[38;5;241m.\u001b[39mget_result_as_array())\n",
      "File \u001b[1;32m~\\anaconda3\\envs\\my_coop\\Lib\\site-packages\\pandas\\io\\formats\\format.py:1439\u001b[0m, in \u001b[0;36mFloatArrayFormatter.get_result_as_array\u001b[1;34m(self)\u001b[0m\n\u001b[0;32m   1436\u001b[0m \u001b[38;5;28;01melse\u001b[39;00m:\n\u001b[0;32m   1437\u001b[0m     float_format \u001b[38;5;241m=\u001b[39m \u001b[38;5;28;01mlambda\u001b[39;00m value: \u001b[38;5;28mself\u001b[39m\u001b[38;5;241m.\u001b[39mfloat_format \u001b[38;5;241m%\u001b[39m value\n\u001b[1;32m-> 1439\u001b[0m formatted_values \u001b[38;5;241m=\u001b[39m format_values_with(float_format)\n\u001b[0;32m   1441\u001b[0m \u001b[38;5;28;01mif\u001b[39;00m \u001b[38;5;129;01mnot\u001b[39;00m \u001b[38;5;28mself\u001b[39m\u001b[38;5;241m.\u001b[39mfixed_width:\n\u001b[0;32m   1442\u001b[0m     \u001b[38;5;28;01mreturn\u001b[39;00m formatted_values\n",
      "File \u001b[1;32m~\\anaconda3\\envs\\my_coop\\Lib\\site-packages\\pandas\\io\\formats\\format.py:1413\u001b[0m, in \u001b[0;36mFloatArrayFormatter.get_result_as_array.<locals>.format_values_with\u001b[1;34m(float_format)\u001b[0m\n\u001b[0;32m   1411\u001b[0m     values \u001b[38;5;241m=\u001b[39m format_complex_with_na_rep(values, formatter, na_rep)\n\u001b[0;32m   1412\u001b[0m \u001b[38;5;28;01melse\u001b[39;00m:\n\u001b[1;32m-> 1413\u001b[0m     values \u001b[38;5;241m=\u001b[39m format_with_na_rep(values, formatter, na_rep)\n\u001b[0;32m   1415\u001b[0m \u001b[38;5;28;01mif\u001b[39;00m \u001b[38;5;28mself\u001b[39m\u001b[38;5;241m.\u001b[39mfixed_width:\n\u001b[0;32m   1416\u001b[0m     \u001b[38;5;28;01mif\u001b[39;00m is_complex:\n",
      "File \u001b[1;32m~\\anaconda3\\envs\\my_coop\\Lib\\site-packages\\pandas\\io\\formats\\format.py:1351\u001b[0m, in \u001b[0;36mFloatArrayFormatter.get_result_as_array.<locals>.format_with_na_rep\u001b[1;34m(values, formatter, na_rep)\u001b[0m\n\u001b[0;32m   1349\u001b[0m \u001b[38;5;28;01mdef\u001b[39;00m \u001b[38;5;21mformat_with_na_rep\u001b[39m(values: ArrayLike, formatter: Callable, na_rep: \u001b[38;5;28mstr\u001b[39m):\n\u001b[0;32m   1350\u001b[0m     mask \u001b[38;5;241m=\u001b[39m isna(values)\n\u001b[1;32m-> 1351\u001b[0m     formatted \u001b[38;5;241m=\u001b[39m np\u001b[38;5;241m.\u001b[39marray(\n\u001b[0;32m   1352\u001b[0m         [\n\u001b[0;32m   1353\u001b[0m             formatter(val) \u001b[38;5;28;01mif\u001b[39;00m \u001b[38;5;129;01mnot\u001b[39;00m m \u001b[38;5;28;01melse\u001b[39;00m na_rep\n\u001b[0;32m   1354\u001b[0m             \u001b[38;5;28;01mfor\u001b[39;00m val, m \u001b[38;5;129;01min\u001b[39;00m \u001b[38;5;28mzip\u001b[39m(values\u001b[38;5;241m.\u001b[39mravel(), mask\u001b[38;5;241m.\u001b[39mravel())\n\u001b[0;32m   1355\u001b[0m         ]\n\u001b[0;32m   1356\u001b[0m     )\u001b[38;5;241m.\u001b[39mreshape(values\u001b[38;5;241m.\u001b[39mshape)\n\u001b[0;32m   1357\u001b[0m     \u001b[38;5;28;01mreturn\u001b[39;00m formatted\n",
      "\u001b[1;31mKeyboardInterrupt\u001b[0m: "
     ]
    }
   ],
   "source": [
    "_ = get_agents('true_200', 40, None, 89)"
   ]
  },
  {
   "cell_type": "code",
   "execution_count": null,
   "id": "a0aab94b-d33d-480a-837b-1e406257373d",
   "metadata": {},
   "outputs": [],
   "source": []
  }
 ],
 "metadata": {
  "kernelspec": {
   "display_name": "Python 3 (ipykernel)",
   "language": "python",
   "name": "python3"
  },
  "language_info": {
   "codemirror_mode": {
    "name": "ipython",
    "version": 3
   },
   "file_extension": ".py",
   "mimetype": "text/x-python",
   "name": "python",
   "nbconvert_exporter": "python",
   "pygments_lexer": "ipython3",
   "version": "3.12.4"
  }
 },
 "nbformat": 4,
 "nbformat_minor": 5
}
